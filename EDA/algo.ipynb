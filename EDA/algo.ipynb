{
 "cells": [
  {
   "cell_type": "code",
   "execution_count": 1,
   "metadata": {},
   "outputs": [],
   "source": [
    "import pandas as pd\n",
    "import numpy as np\n",
    "import matplotlib.pyplot as plt\n",
    "import seaborn as sns\n",
    "from sklearn.neighbors import NearestNeighbors"
   ]
  },
  {
   "cell_type": "markdown",
   "metadata": {},
   "source": [
    "## 1. Import des 2 DS : title_basic et title_ratings"
   ]
  },
  {
   "cell_type": "code",
   "execution_count": 2,
   "metadata": {},
   "outputs": [],
   "source": [
    "# title.basics\n",
    "title_basics = pd.read_csv('https://datasets.imdbws.com/title.basics.tsv.gz', sep ='\\t', low_memory = False)"
   ]
  },
  {
   "cell_type": "code",
   "execution_count": 3,
   "metadata": {},
   "outputs": [],
   "source": [
    "# title.ratings\n",
    "title_ratings= pd.read_csv('https://datasets.imdbws.com/title.ratings.tsv.gz', sep = '\\t')"
   ]
  },
  {
   "cell_type": "code",
   "execution_count": 4,
   "metadata": {},
   "outputs": [
    {
     "name": "stdout",
     "output_type": "stream",
     "text": [
      "Title basics:  (8479240, 9)\n",
      "Title ratings:  (1203319, 3)\n"
     ]
    }
   ],
   "source": [
    "print(\"Title basics: \", title_basics.shape)\n",
    "print(\"Title ratings: \", title_ratings.shape)"
   ]
  },
  {
   "cell_type": "code",
   "execution_count": 5,
   "metadata": {},
   "outputs": [],
   "source": [
    "# faire une merge du df_genre avec ratings : inner join car je ne veux que les données qui sont communes aux 2 DS\n",
    "df_rating = title_basics.merge(title_ratings, on='tconst', how='inner')\n",
    "df_rating.reset_index(inplace = True, drop= True)"
   ]
  },
  {
   "cell_type": "code",
   "execution_count": 6,
   "metadata": {},
   "outputs": [
    {
     "name": "stdout",
     "output_type": "stream",
     "text": [
      "Shape après merge:  (1203319, 11)\n"
     ]
    }
   ],
   "source": [
    "print(\"Shape après merge: \", df_rating.shape)"
   ]
  },
  {
   "cell_type": "markdown",
   "metadata": {},
   "source": [
    "## 2. Appliquer les filtres :\n",
    "- ne garder que les films\n",
    "- ne garder que les films où isadult == 0\n",
    "- ne garder que les films ayant une note de plus de la moyenne des notes\n",
    "- ne garder que les films ayant un nombre de vote supérieur à 500\n",
    "\n",
    "\n",
    "Après gestion des Nan :\n",
    "- films de plus de 60min et moins de 240"
   ]
  },
  {
   "cell_type": "code",
   "execution_count": 7,
   "metadata": {},
   "outputs": [
    {
     "data": {
      "text/plain": [
       "(270788, 11)"
      ]
     },
     "execution_count": 7,
     "metadata": {},
     "output_type": "execute_result"
    }
   ],
   "source": [
    "# ne garder que les films : 270K de films\n",
    "movies_df = df_rating[df_rating['titleType'] == 'movie']\n",
    "movies_df.shape"
   ]
  },
  {
   "cell_type": "code",
   "execution_count": 8,
   "metadata": {},
   "outputs": [
    {
     "name": "stderr",
     "output_type": "stream",
     "text": [
      "C:\\Users\\Alex\\anaconda3\\lib\\site-packages\\pandas\\core\\frame.py:4308: SettingWithCopyWarning: \n",
      "A value is trying to be set on a copy of a slice from a DataFrame\n",
      "\n",
      "See the caveats in the documentation: https://pandas.pydata.org/pandas-docs/stable/user_guide/indexing.html#returning-a-view-versus-a-copy\n",
      "  return super().drop(\n"
     ]
    }
   ],
   "source": [
    "# supprimer colonne endYear qui ne concerne visiblement que les séries\n",
    "movies_df.drop('endYear', axis = 1, inplace = True)"
   ]
  },
  {
   "cell_type": "markdown",
   "metadata": {},
   "source": [
    "# IsAdult == 0 : 265K films\n",
    "\n"
   ]
  },
  {
   "cell_type": "code",
   "execution_count": 9,
   "metadata": {},
   "outputs": [
    {
     "data": {
      "text/plain": [
       "(266379, 9)"
      ]
     },
     "execution_count": 9,
     "metadata": {},
     "output_type": "execute_result"
    }
   ],
   "source": [
    "movies_df = movies_df[movies_df['isAdult'] == '0']\n",
    "movies_df.drop('isAdult', axis = 1, inplace = True)\n",
    "movies_df.shape"
   ]
  },
  {
   "cell_type": "code",
   "execution_count": 10,
   "metadata": {},
   "outputs": [
    {
     "data": {
      "text/plain": [
       "(144825, 9)"
      ]
     },
     "execution_count": 10,
     "metadata": {},
     "output_type": "execute_result"
    }
   ],
   "source": [
    "# ne garder que les films dont le rating est supérieur à la moy de tous les films\n",
    "movies_df = movies_df[movies_df['averageRating'] > movies_df['averageRating'].mean()]\n",
    "movies_df.shape"
   ]
  },
  {
   "cell_type": "code",
   "execution_count": 11,
   "metadata": {},
   "outputs": [
    {
     "data": {
      "text/plain": [
       "count    1.448250e+05\n",
       "mean     5.311516e+03\n",
       "std      4.432391e+04\n",
       "min      5.000000e+00\n",
       "25%      1.600000e+01\n",
       "50%      5.000000e+01\n",
       "75%      3.180000e+02\n",
       "max      2.488195e+06\n",
       "Name: numVotes, dtype: float64"
      ]
     },
     "execution_count": 11,
     "metadata": {},
     "output_type": "execute_result"
    }
   ],
   "source": [
    "movies_df['numVotes'].describe()\n"
   ]
  },
  {
   "cell_type": "code",
   "execution_count": 12,
   "metadata": {},
   "outputs": [
    {
     "data": {
      "text/plain": [
       "(30385, 9)"
      ]
     },
     "execution_count": 12,
     "metadata": {},
     "output_type": "execute_result"
    }
   ],
   "source": [
    "# ne garder que les films qui ont plus de 500 votes\n",
    "movies_df = movies_df[movies_df['numVotes'] > 500]\n",
    "movies_df.shape"
   ]
  },
  {
   "cell_type": "markdown",
   "metadata": {},
   "source": [
    "## 3. Valeurs manquantes"
   ]
  },
  {
   "cell_type": "code",
   "execution_count": 13,
   "metadata": {},
   "outputs": [],
   "source": [
    "movies_df = movies_df.replace('\\\\N', np.NaN)"
   ]
  },
  {
   "cell_type": "code",
   "execution_count": 14,
   "metadata": {},
   "outputs": [
    {
     "data": {
      "text/plain": [
       "tconst             0\n",
       "titleType          0\n",
       "primaryTitle       0\n",
       "originalTitle      0\n",
       "startYear          1\n",
       "runtimeMinutes    62\n",
       "genres             2\n",
       "averageRating      0\n",
       "numVotes           0\n",
       "dtype: int64"
      ]
     },
     "execution_count": 14,
     "metadata": {},
     "output_type": "execute_result"
    }
   ],
   "source": [
    "movies_df.isna().sum()"
   ]
  },
  {
   "cell_type": "code",
   "execution_count": 15,
   "metadata": {},
   "outputs": [],
   "source": [
    "# suppression des lignes où il y a des valeurs manquantes\n",
    "movies_df.dropna(inplace = True)"
   ]
  },
  {
   "cell_type": "code",
   "execution_count": 16,
   "metadata": {},
   "outputs": [
    {
     "data": {
      "text/plain": [
       "(30322, 9)"
      ]
     },
     "execution_count": 16,
     "metadata": {},
     "output_type": "execute_result"
    }
   ],
   "source": [
    "movies_df.shape"
   ]
  },
  {
   "cell_type": "markdown",
   "metadata": {},
   "source": [
    "## 4. Types de données"
   ]
  },
  {
   "cell_type": "code",
   "execution_count": 17,
   "metadata": {},
   "outputs": [
    {
     "data": {
      "text/plain": [
       "tconst             object\n",
       "titleType          object\n",
       "primaryTitle       object\n",
       "originalTitle      object\n",
       "startYear          object\n",
       "runtimeMinutes     object\n",
       "genres             object\n",
       "averageRating     float64\n",
       "numVotes            int64\n",
       "dtype: object"
      ]
     },
     "execution_count": 17,
     "metadata": {},
     "output_type": "execute_result"
    }
   ],
   "source": [
    "movies_df.dtypes"
   ]
  },
  {
   "cell_type": "code",
   "execution_count": 18,
   "metadata": {},
   "outputs": [
    {
     "data": {
      "text/html": [
       "<div>\n",
       "<style scoped>\n",
       "    .dataframe tbody tr th:only-of-type {\n",
       "        vertical-align: middle;\n",
       "    }\n",
       "\n",
       "    .dataframe tbody tr th {\n",
       "        vertical-align: top;\n",
       "    }\n",
       "\n",
       "    .dataframe thead th {\n",
       "        text-align: right;\n",
       "    }\n",
       "</style>\n",
       "<table border=\"1\" class=\"dataframe\">\n",
       "  <thead>\n",
       "    <tr style=\"text-align: right;\">\n",
       "      <th></th>\n",
       "      <th>tconst</th>\n",
       "      <th>titleType</th>\n",
       "      <th>primaryTitle</th>\n",
       "      <th>originalTitle</th>\n",
       "      <th>startYear</th>\n",
       "      <th>runtimeMinutes</th>\n",
       "      <th>genres</th>\n",
       "      <th>averageRating</th>\n",
       "      <th>numVotes</th>\n",
       "    </tr>\n",
       "  </thead>\n",
       "  <tbody>\n",
       "    <tr>\n",
       "      <th>1002</th>\n",
       "      <td>tt0002130</td>\n",
       "      <td>movie</td>\n",
       "      <td>Dante's Inferno</td>\n",
       "      <td>L'Inferno</td>\n",
       "      <td>1911</td>\n",
       "      <td>71</td>\n",
       "      <td>Adventure,Drama,Fantasy</td>\n",
       "      <td>7.0</td>\n",
       "      <td>2706</td>\n",
       "    </tr>\n",
       "    <tr>\n",
       "      <th>1098</th>\n",
       "      <td>tt0002423</td>\n",
       "      <td>movie</td>\n",
       "      <td>Passion</td>\n",
       "      <td>Madame DuBarry</td>\n",
       "      <td>1919</td>\n",
       "      <td>85</td>\n",
       "      <td>Biography,Drama,Romance</td>\n",
       "      <td>6.7</td>\n",
       "      <td>864</td>\n",
       "    </tr>\n",
       "    <tr>\n",
       "      <th>1196</th>\n",
       "      <td>tt0002844</td>\n",
       "      <td>movie</td>\n",
       "      <td>Fantômas: In the Shadow of the Guillotine</td>\n",
       "      <td>Fantômas - À l'ombre de la guillotine</td>\n",
       "      <td>1913</td>\n",
       "      <td>54</td>\n",
       "      <td>Crime,Drama</td>\n",
       "      <td>7.0</td>\n",
       "      <td>2181</td>\n",
       "    </tr>\n",
       "    <tr>\n",
       "      <th>1226</th>\n",
       "      <td>tt0003014</td>\n",
       "      <td>movie</td>\n",
       "      <td>Ingeborg Holm</td>\n",
       "      <td>Ingeborg Holm</td>\n",
       "      <td>1913</td>\n",
       "      <td>96</td>\n",
       "      <td>Drama</td>\n",
       "      <td>7.0</td>\n",
       "      <td>1161</td>\n",
       "    </tr>\n",
       "    <tr>\n",
       "      <th>1231</th>\n",
       "      <td>tt0003037</td>\n",
       "      <td>movie</td>\n",
       "      <td>Fantomas: The Man in Black</td>\n",
       "      <td>Juve contre Fantômas</td>\n",
       "      <td>1913</td>\n",
       "      <td>61</td>\n",
       "      <td>Crime,Drama</td>\n",
       "      <td>7.0</td>\n",
       "      <td>1510</td>\n",
       "    </tr>\n",
       "  </tbody>\n",
       "</table>\n",
       "</div>"
      ],
      "text/plain": [
       "         tconst titleType                               primaryTitle  \\\n",
       "1002  tt0002130     movie                            Dante's Inferno   \n",
       "1098  tt0002423     movie                                    Passion   \n",
       "1196  tt0002844     movie  Fantômas: In the Shadow of the Guillotine   \n",
       "1226  tt0003014     movie                              Ingeborg Holm   \n",
       "1231  tt0003037     movie                 Fantomas: The Man in Black   \n",
       "\n",
       "                              originalTitle startYear runtimeMinutes  \\\n",
       "1002                              L'Inferno      1911             71   \n",
       "1098                         Madame DuBarry      1919             85   \n",
       "1196  Fantômas - À l'ombre de la guillotine      1913             54   \n",
       "1226                          Ingeborg Holm      1913             96   \n",
       "1231                   Juve contre Fantômas      1913             61   \n",
       "\n",
       "                       genres  averageRating  numVotes  \n",
       "1002  Adventure,Drama,Fantasy            7.0      2706  \n",
       "1098  Biography,Drama,Romance            6.7       864  \n",
       "1196              Crime,Drama            7.0      2181  \n",
       "1226                    Drama            7.0      1161  \n",
       "1231              Crime,Drama            7.0      1510  "
      ]
     },
     "execution_count": 18,
     "metadata": {},
     "output_type": "execute_result"
    }
   ],
   "source": [
    "movies_df.head()"
   ]
  },
  {
   "cell_type": "code",
   "execution_count": 19,
   "metadata": {},
   "outputs": [],
   "source": [
    "movies_df['runtimeMinutes'] = movies_df['runtimeMinutes'].astype(int)\n",
    "movies_df['startYear'] = movies_df['startYear'].astype(int)"
   ]
  },
  {
   "cell_type": "code",
   "execution_count": 20,
   "metadata": {},
   "outputs": [],
   "source": [
    "# ne garder que les films dont la durée est supérieure à 60min et inférieur à 240min\n",
    "movies_df = movies_df[(movies_df['runtimeMinutes'] > 60) & (movies_df['runtimeMinutes'] < 240)]"
   ]
  },
  {
   "cell_type": "code",
   "execution_count": 21,
   "metadata": {},
   "outputs": [],
   "source": [
    "# transformer la colonne genre avec get_dummies\n",
    "movies_df = pd.concat([movies_df, movies_df['genres'].str.get_dummies(sep = ',')], axis = 1)"
   ]
  },
  {
   "cell_type": "code",
   "execution_count": 33,
   "metadata": {},
   "outputs": [
    {
     "data": {
      "text/html": [
       "<div>\n",
       "<style scoped>\n",
       "    .dataframe tbody tr th:only-of-type {\n",
       "        vertical-align: middle;\n",
       "    }\n",
       "\n",
       "    .dataframe tbody tr th {\n",
       "        vertical-align: top;\n",
       "    }\n",
       "\n",
       "    .dataframe thead th {\n",
       "        text-align: right;\n",
       "    }\n",
       "</style>\n",
       "<table border=\"1\" class=\"dataframe\">\n",
       "  <thead>\n",
       "    <tr style=\"text-align: right;\">\n",
       "      <th></th>\n",
       "      <th>averageRating</th>\n",
       "      <th>numVotes</th>\n",
       "      <th>Action</th>\n",
       "      <th>Adult</th>\n",
       "      <th>Adventure</th>\n",
       "      <th>Animation</th>\n",
       "      <th>Biography</th>\n",
       "      <th>Comedy</th>\n",
       "      <th>Crime</th>\n",
       "      <th>Documentary</th>\n",
       "      <th>...</th>\n",
       "      <th>Music</th>\n",
       "      <th>Musical</th>\n",
       "      <th>Mystery</th>\n",
       "      <th>News</th>\n",
       "      <th>Romance</th>\n",
       "      <th>Sci-Fi</th>\n",
       "      <th>Sport</th>\n",
       "      <th>Thriller</th>\n",
       "      <th>War</th>\n",
       "      <th>Western</th>\n",
       "    </tr>\n",
       "  </thead>\n",
       "  <tbody>\n",
       "    <tr>\n",
       "      <th>0</th>\n",
       "      <td>7.0</td>\n",
       "      <td>2706</td>\n",
       "      <td>0</td>\n",
       "      <td>0</td>\n",
       "      <td>1</td>\n",
       "      <td>0</td>\n",
       "      <td>0</td>\n",
       "      <td>0</td>\n",
       "      <td>0</td>\n",
       "      <td>0</td>\n",
       "      <td>...</td>\n",
       "      <td>0</td>\n",
       "      <td>0</td>\n",
       "      <td>0</td>\n",
       "      <td>0</td>\n",
       "      <td>0</td>\n",
       "      <td>0</td>\n",
       "      <td>0</td>\n",
       "      <td>0</td>\n",
       "      <td>0</td>\n",
       "      <td>0</td>\n",
       "    </tr>\n",
       "    <tr>\n",
       "      <th>1</th>\n",
       "      <td>6.7</td>\n",
       "      <td>864</td>\n",
       "      <td>0</td>\n",
       "      <td>0</td>\n",
       "      <td>0</td>\n",
       "      <td>0</td>\n",
       "      <td>1</td>\n",
       "      <td>0</td>\n",
       "      <td>0</td>\n",
       "      <td>0</td>\n",
       "      <td>...</td>\n",
       "      <td>0</td>\n",
       "      <td>0</td>\n",
       "      <td>0</td>\n",
       "      <td>0</td>\n",
       "      <td>1</td>\n",
       "      <td>0</td>\n",
       "      <td>0</td>\n",
       "      <td>0</td>\n",
       "      <td>0</td>\n",
       "      <td>0</td>\n",
       "    </tr>\n",
       "    <tr>\n",
       "      <th>2</th>\n",
       "      <td>7.0</td>\n",
       "      <td>1161</td>\n",
       "      <td>0</td>\n",
       "      <td>0</td>\n",
       "      <td>0</td>\n",
       "      <td>0</td>\n",
       "      <td>0</td>\n",
       "      <td>0</td>\n",
       "      <td>0</td>\n",
       "      <td>0</td>\n",
       "      <td>...</td>\n",
       "      <td>0</td>\n",
       "      <td>0</td>\n",
       "      <td>0</td>\n",
       "      <td>0</td>\n",
       "      <td>0</td>\n",
       "      <td>0</td>\n",
       "      <td>0</td>\n",
       "      <td>0</td>\n",
       "      <td>0</td>\n",
       "      <td>0</td>\n",
       "    </tr>\n",
       "    <tr>\n",
       "      <th>3</th>\n",
       "      <td>7.0</td>\n",
       "      <td>1510</td>\n",
       "      <td>0</td>\n",
       "      <td>0</td>\n",
       "      <td>0</td>\n",
       "      <td>0</td>\n",
       "      <td>0</td>\n",
       "      <td>0</td>\n",
       "      <td>1</td>\n",
       "      <td>0</td>\n",
       "      <td>...</td>\n",
       "      <td>0</td>\n",
       "      <td>0</td>\n",
       "      <td>0</td>\n",
       "      <td>0</td>\n",
       "      <td>0</td>\n",
       "      <td>0</td>\n",
       "      <td>0</td>\n",
       "      <td>0</td>\n",
       "      <td>0</td>\n",
       "      <td>0</td>\n",
       "    </tr>\n",
       "    <tr>\n",
       "      <th>4</th>\n",
       "      <td>7.0</td>\n",
       "      <td>1180</td>\n",
       "      <td>0</td>\n",
       "      <td>0</td>\n",
       "      <td>0</td>\n",
       "      <td>0</td>\n",
       "      <td>0</td>\n",
       "      <td>0</td>\n",
       "      <td>1</td>\n",
       "      <td>0</td>\n",
       "      <td>...</td>\n",
       "      <td>0</td>\n",
       "      <td>0</td>\n",
       "      <td>1</td>\n",
       "      <td>0</td>\n",
       "      <td>0</td>\n",
       "      <td>0</td>\n",
       "      <td>0</td>\n",
       "      <td>0</td>\n",
       "      <td>0</td>\n",
       "      <td>0</td>\n",
       "    </tr>\n",
       "    <tr>\n",
       "      <th>...</th>\n",
       "      <td>...</td>\n",
       "      <td>...</td>\n",
       "      <td>...</td>\n",
       "      <td>...</td>\n",
       "      <td>...</td>\n",
       "      <td>...</td>\n",
       "      <td>...</td>\n",
       "      <td>...</td>\n",
       "      <td>...</td>\n",
       "      <td>...</td>\n",
       "      <td>...</td>\n",
       "      <td>...</td>\n",
       "      <td>...</td>\n",
       "      <td>...</td>\n",
       "      <td>...</td>\n",
       "      <td>...</td>\n",
       "      <td>...</td>\n",
       "      <td>...</td>\n",
       "      <td>...</td>\n",
       "      <td>...</td>\n",
       "      <td>...</td>\n",
       "    </tr>\n",
       "    <tr>\n",
       "      <th>29933</th>\n",
       "      <td>7.2</td>\n",
       "      <td>563</td>\n",
       "      <td>0</td>\n",
       "      <td>0</td>\n",
       "      <td>0</td>\n",
       "      <td>0</td>\n",
       "      <td>0</td>\n",
       "      <td>0</td>\n",
       "      <td>0</td>\n",
       "      <td>0</td>\n",
       "      <td>...</td>\n",
       "      <td>0</td>\n",
       "      <td>0</td>\n",
       "      <td>0</td>\n",
       "      <td>0</td>\n",
       "      <td>0</td>\n",
       "      <td>0</td>\n",
       "      <td>0</td>\n",
       "      <td>0</td>\n",
       "      <td>0</td>\n",
       "      <td>0</td>\n",
       "    </tr>\n",
       "    <tr>\n",
       "      <th>29934</th>\n",
       "      <td>8.2</td>\n",
       "      <td>671</td>\n",
       "      <td>0</td>\n",
       "      <td>0</td>\n",
       "      <td>0</td>\n",
       "      <td>0</td>\n",
       "      <td>0</td>\n",
       "      <td>0</td>\n",
       "      <td>0</td>\n",
       "      <td>0</td>\n",
       "      <td>...</td>\n",
       "      <td>0</td>\n",
       "      <td>0</td>\n",
       "      <td>0</td>\n",
       "      <td>0</td>\n",
       "      <td>0</td>\n",
       "      <td>0</td>\n",
       "      <td>0</td>\n",
       "      <td>0</td>\n",
       "      <td>0</td>\n",
       "      <td>0</td>\n",
       "    </tr>\n",
       "    <tr>\n",
       "      <th>29935</th>\n",
       "      <td>6.8</td>\n",
       "      <td>706</td>\n",
       "      <td>0</td>\n",
       "      <td>0</td>\n",
       "      <td>0</td>\n",
       "      <td>0</td>\n",
       "      <td>0</td>\n",
       "      <td>1</td>\n",
       "      <td>0</td>\n",
       "      <td>0</td>\n",
       "      <td>...</td>\n",
       "      <td>0</td>\n",
       "      <td>0</td>\n",
       "      <td>0</td>\n",
       "      <td>0</td>\n",
       "      <td>0</td>\n",
       "      <td>0</td>\n",
       "      <td>0</td>\n",
       "      <td>0</td>\n",
       "      <td>0</td>\n",
       "      <td>0</td>\n",
       "    </tr>\n",
       "    <tr>\n",
       "      <th>29936</th>\n",
       "      <td>7.6</td>\n",
       "      <td>3219</td>\n",
       "      <td>0</td>\n",
       "      <td>0</td>\n",
       "      <td>0</td>\n",
       "      <td>0</td>\n",
       "      <td>0</td>\n",
       "      <td>1</td>\n",
       "      <td>0</td>\n",
       "      <td>0</td>\n",
       "      <td>...</td>\n",
       "      <td>0</td>\n",
       "      <td>0</td>\n",
       "      <td>0</td>\n",
       "      <td>0</td>\n",
       "      <td>0</td>\n",
       "      <td>0</td>\n",
       "      <td>0</td>\n",
       "      <td>0</td>\n",
       "      <td>0</td>\n",
       "      <td>0</td>\n",
       "    </tr>\n",
       "    <tr>\n",
       "      <th>29937</th>\n",
       "      <td>6.4</td>\n",
       "      <td>4082</td>\n",
       "      <td>0</td>\n",
       "      <td>0</td>\n",
       "      <td>0</td>\n",
       "      <td>0</td>\n",
       "      <td>0</td>\n",
       "      <td>0</td>\n",
       "      <td>0</td>\n",
       "      <td>0</td>\n",
       "      <td>...</td>\n",
       "      <td>0</td>\n",
       "      <td>0</td>\n",
       "      <td>0</td>\n",
       "      <td>0</td>\n",
       "      <td>0</td>\n",
       "      <td>0</td>\n",
       "      <td>0</td>\n",
       "      <td>0</td>\n",
       "      <td>0</td>\n",
       "      <td>0</td>\n",
       "    </tr>\n",
       "  </tbody>\n",
       "</table>\n",
       "<p>29938 rows × 26 columns</p>\n",
       "</div>"
      ],
      "text/plain": [
       "       averageRating  numVotes  Action  Adult  Adventure  Animation  \\\n",
       "0                7.0      2706       0      0          1          0   \n",
       "1                6.7       864       0      0          0          0   \n",
       "2                7.0      1161       0      0          0          0   \n",
       "3                7.0      1510       0      0          0          0   \n",
       "4                7.0      1180       0      0          0          0   \n",
       "...              ...       ...     ...    ...        ...        ...   \n",
       "29933            7.2       563       0      0          0          0   \n",
       "29934            8.2       671       0      0          0          0   \n",
       "29935            6.8       706       0      0          0          0   \n",
       "29936            7.6      3219       0      0          0          0   \n",
       "29937            6.4      4082       0      0          0          0   \n",
       "\n",
       "       Biography  Comedy  Crime  Documentary  ...  Music  Musical  Mystery  \\\n",
       "0              0       0      0            0  ...      0        0        0   \n",
       "1              1       0      0            0  ...      0        0        0   \n",
       "2              0       0      0            0  ...      0        0        0   \n",
       "3              0       0      1            0  ...      0        0        0   \n",
       "4              0       0      1            0  ...      0        0        1   \n",
       "...          ...     ...    ...          ...  ...    ...      ...      ...   \n",
       "29933          0       0      0            0  ...      0        0        0   \n",
       "29934          0       0      0            0  ...      0        0        0   \n",
       "29935          0       1      0            0  ...      0        0        0   \n",
       "29936          0       1      0            0  ...      0        0        0   \n",
       "29937          0       0      0            0  ...      0        0        0   \n",
       "\n",
       "       News  Romance  Sci-Fi  Sport  Thriller  War  Western  \n",
       "0         0        0       0      0         0    0        0  \n",
       "1         0        1       0      0         0    0        0  \n",
       "2         0        0       0      0         0    0        0  \n",
       "3         0        0       0      0         0    0        0  \n",
       "4         0        0       0      0         0    0        0  \n",
       "...     ...      ...     ...    ...       ...  ...      ...  \n",
       "29933     0        0       0      0         0    0        0  \n",
       "29934     0        0       0      0         0    0        0  \n",
       "29935     0        0       0      0         0    0        0  \n",
       "29936     0        0       0      0         0    0        0  \n",
       "29937     0        0       0      0         0    0        0  \n",
       "\n",
       "[29938 rows x 26 columns]"
      ]
     },
     "execution_count": 33,
     "metadata": {},
     "output_type": "execute_result"
    }
   ],
   "source": [
    "movies_df.iloc[:, 7:]"
   ]
  },
  {
   "cell_type": "code",
   "execution_count": 23,
   "metadata": {},
   "outputs": [],
   "source": [
    "movies_df.reset_index(inplace=True, drop = True)"
   ]
  },
  {
   "cell_type": "markdown",
   "metadata": {},
   "source": [
    "## 5. Algorithme 1"
   ]
  },
  {
   "cell_type": "code",
   "execution_count": 34,
   "metadata": {},
   "outputs": [],
   "source": [
    "# définition des colonnes de features\n",
    "colonnes = list(movies_df.columns)\n",
    "col = colonnes[7:]\n",
    "X = movies_df[col]\n",
    "\n",
    "# entrainement du modèle\n",
    "model = NearestNeighbors(n_neighbors=6).fit(X)\n",
    "\n",
    "# assigner les distances et les indices obtenus \n",
    "distances, indices = model.kneighbors(X)"
   ]
  },
  {
   "cell_type": "markdown",
   "metadata": {},
   "source": [
    "## 6. Test 1 : non concluant "
   ]
  },
  {
   "cell_type": "markdown",
   "metadata": {},
   "source": [
    "Lorsque l'utilisateur va entrer le nom d'un film qu'il a aimé : il faut que l'app puisse la retrouver dans la liste des films dispo dans le dataset"
   ]
  },
  {
   "cell_type": "code",
   "execution_count": 35,
   "metadata": {},
   "outputs": [],
   "source": [
    "# retourne l'indice du film quand on lui donne le nom complet\n",
    "def get_index(title):\n",
    "    return movies_df[movies_df['primaryTitle'] == title].index.tolist()[0]"
   ]
  },
  {
   "cell_type": "code",
   "execution_count": 36,
   "metadata": {},
   "outputs": [],
   "source": [
    "# si l'utilisateur ne tape pas le nom en entier\n",
    "# on recherche toutes les entrées où il y a ce nom et on prend le premier\n",
    "def get_index_from_partial_title(title):\n",
    "    title = title.capitalize()\n",
    "    return movies_df[movies_df['primaryTitle'].str.contains(title)].index.tolist()[0]"
   ]
  },
  {
   "cell_type": "code",
   "execution_count": 37,
   "metadata": {},
   "outputs": [],
   "source": [
    "# display les titres proches \n",
    "def get_movies(title):\n",
    "    movie_id = get_index(title)\n",
    "    # pour tous les indices de l'array indices crée dans le modèle, trouve les voisins du titre donné\n",
    "    # le 0 étant le film lui même (distance 0)\n",
    "    for id in indices[movie_id][1:]:\n",
    "        print(movies_df.iloc[id, 2])\n",
    "    "
   ]
  },
  {
   "cell_type": "code",
   "execution_count": 38,
   "metadata": {},
   "outputs": [
    {
     "name": "stdout",
     "output_type": "stream",
     "text": [
      "The Wolf of Wall Street\n",
      "Schindler's List\n",
      "Saving Private Ryan\n",
      "The Prestige\n",
      "The Avengers\n"
     ]
    }
   ],
   "source": [
    "get_movies('Star Wars: Episode IV - A New Hope')"
   ]
  },
  {
   "cell_type": "markdown",
   "metadata": {},
   "source": [
    "## 7. Algo 2 et test\n",
    "\n",
    "Changer la métrique dans l'algo en 'cosine' qui ne calcule plus la distance euclidienne entre deux titres mais le cosinus entre les deux vecteurs. "
   ]
  },
  {
   "cell_type": "code",
   "execution_count": 39,
   "metadata": {},
   "outputs": [],
   "source": [
    "# retourne l'indice du film quand on lui donne le nom complet\n",
    "def get_index(title):\n",
    "    return movies_df[movies_df['primaryTitle'] == title].index.tolist()[0]\n",
    "\n",
    "# si l'utilisateur ne tape pas le nom en entier\n",
    "# on recherche toutes les entrées où il y a ce nom et on prend le premier\n",
    "def get_index_from_partial_title(title):\n",
    "    title = title.capitalize()\n",
    "    return movies_df[movies_df['primaryTitle'].str.contains(title)].index.tolist()[0]"
   ]
  },
  {
   "cell_type": "code",
   "execution_count": 40,
   "metadata": {},
   "outputs": [],
   "source": [
    "# metric = cosine\n",
    "# entrainement du modèle\n",
    "model2 = NearestNeighbors(n_neighbors=6, metric='cosine').fit(X)\n",
    "\n",
    "# assigner les distances et les indices obtenus \n",
    "distances, indices = model2.kneighbors(X)"
   ]
  },
  {
   "cell_type": "code",
   "execution_count": 41,
   "metadata": {},
   "outputs": [],
   "source": [
    "# display les titres proches \n",
    "def get_movies(title):\n",
    "    movie_id = get_index(title)\n",
    "    # pour tous les indices de l'array indices crée dans le modèle, trouve les voisins du titre donné\n",
    "    # le 0 étant le film lui même (distance 0)\n",
    "    for id in indices[movie_id][1:]:\n",
    "        print(movies_df.iloc[id, 2])"
   ]
  },
  {
   "cell_type": "code",
   "execution_count": 42,
   "metadata": {},
   "outputs": [
    {
     "name": "stdout",
     "output_type": "stream",
     "text": [
      "Avatar\n",
      "Star Wars: Episode V - The Empire Strikes Back\n",
      "Pirates of the Caribbean: The Curse of the Black Pearl\n",
      "Batman Begins\n",
      "Gladiator\n"
     ]
    }
   ],
   "source": [
    "get_movies('Star Wars: Episode IV - A New Hope')"
   ]
  },
  {
   "cell_type": "code",
   "execution_count": 43,
   "metadata": {},
   "outputs": [
    {
     "name": "stdout",
     "output_type": "stream",
     "text": [
      "Gladiator\n",
      "The Lord of the Rings: The Two Towers\n",
      "The Avengers\n",
      "The Lord of the Rings: The Return of the King\n",
      "Star Wars: Episode IV - A New Hope\n"
     ]
    }
   ],
   "source": [
    "get_movies('Batman Begins')"
   ]
  },
  {
   "cell_type": "code",
   "execution_count": 44,
   "metadata": {},
   "outputs": [
    {
     "name": "stdout",
     "output_type": "stream",
     "text": [
      "Vicky Cristina Barcelona\n",
      "Jerry Maguire\n",
      "Don Jon\n",
      "Marriage Story\n",
      "The Lobster\n"
     ]
    }
   ],
   "source": [
    "get_movies(\"Bridget Jones's Diary\")"
   ]
  },
  {
   "cell_type": "markdown",
   "metadata": {},
   "source": [
    "## 8. Input user : pour streamlit"
   ]
  },
  {
   "cell_type": "code",
   "execution_count": 45,
   "metadata": {},
   "outputs": [],
   "source": [
    "# copie du df pour modifier :\n",
    "movies_lower = movies_df.copy()\n",
    "movies_lower['primaryTitle'] = movies_lower['primaryTitle'].str.lower()"
   ]
  },
  {
   "cell_type": "code",
   "execution_count": 46,
   "metadata": {},
   "outputs": [],
   "source": [
    "# sortir une liste de film en fonction de ce qu'il entre:\n",
    "def get_list_from_partial_title(title):\n",
    "    title = title.lower()\n",
    "    list_movies= movies_lower[movies_lower['primaryTitle'].str.contains(title)].index.tolist()\n",
    "    df = movies_df.iloc[list_movies, :]\n",
    "    titres = []\n",
    "    for key, value in df.iteritems() :\n",
    "        if key == 'primaryTitle':\n",
    "            titres.append(value)\n",
    "    return titres"
   ]
  },
  {
   "cell_type": "code",
   "execution_count": 47,
   "metadata": {},
   "outputs": [
    {
     "data": {
      "text/plain": [
       "[7087                 Star Wars: Episode IV - A New Hope\n",
       " 7504     Star Wars: Episode V - The Empire Strikes Back\n",
       " 8142         Star Wars: Episode VI - Return of the Jedi\n",
       " 11592         Star Wars: Episode I - The Phantom Menace\n",
       " 11601      Star Wars: Episode II - Attack of the Clones\n",
       " 11602      Star Wars: Episode III - Revenge of the Sith\n",
       " 23713        Star Wars: Episode VII - The Force Awakens\n",
       " 23763           Star Wars: Episode VIII - The Last Jedi\n",
       " 23764     Star Wars: Episode IX - The Rise of Skywalker\n",
       " 25104       Plastic Galaxy: The Story of Star Wars Toys\n",
       " 25240                      Rogue One: A Star Wars Story\n",
       " 25282                           Solo: A Star Wars Story\n",
       " Name: primaryTitle, dtype: object]"
      ]
     },
     "execution_count": 47,
     "metadata": {},
     "output_type": "execute_result"
    }
   ],
   "source": [
    "get_list_from_partial_title('Star wars')"
   ]
  },
  {
   "cell_type": "code",
   "execution_count": 48,
   "metadata": {},
   "outputs": [],
   "source": [
    "movies_df.to_csv('df_algo.csv')"
   ]
  },
  {
   "cell_type": "code",
   "execution_count": null,
   "metadata": {},
   "outputs": [],
   "source": []
  }
 ],
 "metadata": {
  "interpreter": {
   "hash": "054c0128ae785496ec715fe55dc407401ac17e534a17f921fadf0b2704e9e719"
  },
  "kernelspec": {
   "display_name": "Python 3.8.8 64-bit ('base': conda)",
   "language": "python",
   "name": "python3"
  },
  "language_info": {
   "codemirror_mode": {
    "name": "ipython",
    "version": 3
   },
   "file_extension": ".py",
   "mimetype": "text/x-python",
   "name": "python",
   "nbconvert_exporter": "python",
   "pygments_lexer": "ipython3",
   "version": "3.8.8"
  },
  "orig_nbformat": 4
 },
 "nbformat": 4,
 "nbformat_minor": 2
}
