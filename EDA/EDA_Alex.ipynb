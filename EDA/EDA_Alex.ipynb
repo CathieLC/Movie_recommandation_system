{
  "cells": [
    {
      "cell_type": "code",
      "execution_count": 1,
      "id": "c7c86682",
      "metadata": {
        "id": "c7c86682"
      },
      "outputs": [],
      "source": [
        "import pandas as pd\n",
        "import numpy as np\n",
        "import matplotlib.pyplot as plt\n",
        "import seaborn as sns\n",
        "import plotly.express as px\n",
        "import plotly.graph_objs as go"
      ]
    },
    {
      "cell_type": "code",
      "execution_count": 2,
      "id": "3c1fdd46",
      "metadata": {
        "id": "3c1fdd46"
      },
      "outputs": [],
      "source": [
        "# title.basics\n",
        "title_basics = pd.read_csv('https://datasets.imdbws.com/title.basics.tsv.gz', sep ='\\t', low_memory = False)"
      ]
    },
    {
      "cell_type": "markdown",
      "id": "c13d68dc",
      "metadata": {
        "id": "c13d68dc"
      },
      "source": [
        "## 1. Principales infos"
      ]
    },
    {
      "cell_type": "code",
      "execution_count": 3,
      "id": "781139f0",
      "metadata": {
        "colab": {
          "base_uri": "https://localhost:8080/",
          "height": 203
        },
        "id": "781139f0",
        "outputId": "2232b7df-53fb-4b7d-8ddd-24ba8da11756"
      },
      "outputs": [
        {
          "data": {
            "text/html": [
              "<div>\n",
              "<style scoped>\n",
              "    .dataframe tbody tr th:only-of-type {\n",
              "        vertical-align: middle;\n",
              "    }\n",
              "\n",
              "    .dataframe tbody tr th {\n",
              "        vertical-align: top;\n",
              "    }\n",
              "\n",
              "    .dataframe thead th {\n",
              "        text-align: right;\n",
              "    }\n",
              "</style>\n",
              "<table border=\"1\" class=\"dataframe\">\n",
              "  <thead>\n",
              "    <tr style=\"text-align: right;\">\n",
              "      <th></th>\n",
              "      <th>tconst</th>\n",
              "      <th>titleType</th>\n",
              "      <th>primaryTitle</th>\n",
              "      <th>originalTitle</th>\n",
              "      <th>isAdult</th>\n",
              "      <th>startYear</th>\n",
              "      <th>endYear</th>\n",
              "      <th>runtimeMinutes</th>\n",
              "      <th>genres</th>\n",
              "    </tr>\n",
              "  </thead>\n",
              "  <tbody>\n",
              "    <tr>\n",
              "      <th>0</th>\n",
              "      <td>tt0000001</td>\n",
              "      <td>short</td>\n",
              "      <td>Carmencita</td>\n",
              "      <td>Carmencita</td>\n",
              "      <td>0</td>\n",
              "      <td>1894</td>\n",
              "      <td>\\N</td>\n",
              "      <td>1</td>\n",
              "      <td>Documentary,Short</td>\n",
              "    </tr>\n",
              "    <tr>\n",
              "      <th>1</th>\n",
              "      <td>tt0000002</td>\n",
              "      <td>short</td>\n",
              "      <td>Le clown et ses chiens</td>\n",
              "      <td>Le clown et ses chiens</td>\n",
              "      <td>0</td>\n",
              "      <td>1892</td>\n",
              "      <td>\\N</td>\n",
              "      <td>5</td>\n",
              "      <td>Animation,Short</td>\n",
              "    </tr>\n",
              "    <tr>\n",
              "      <th>2</th>\n",
              "      <td>tt0000003</td>\n",
              "      <td>short</td>\n",
              "      <td>Pauvre Pierrot</td>\n",
              "      <td>Pauvre Pierrot</td>\n",
              "      <td>0</td>\n",
              "      <td>1892</td>\n",
              "      <td>\\N</td>\n",
              "      <td>4</td>\n",
              "      <td>Animation,Comedy,Romance</td>\n",
              "    </tr>\n",
              "    <tr>\n",
              "      <th>3</th>\n",
              "      <td>tt0000004</td>\n",
              "      <td>short</td>\n",
              "      <td>Un bon bock</td>\n",
              "      <td>Un bon bock</td>\n",
              "      <td>0</td>\n",
              "      <td>1892</td>\n",
              "      <td>\\N</td>\n",
              "      <td>12</td>\n",
              "      <td>Animation,Short</td>\n",
              "    </tr>\n",
              "    <tr>\n",
              "      <th>4</th>\n",
              "      <td>tt0000005</td>\n",
              "      <td>short</td>\n",
              "      <td>Blacksmith Scene</td>\n",
              "      <td>Blacksmith Scene</td>\n",
              "      <td>0</td>\n",
              "      <td>1893</td>\n",
              "      <td>\\N</td>\n",
              "      <td>1</td>\n",
              "      <td>Comedy,Short</td>\n",
              "    </tr>\n",
              "  </tbody>\n",
              "</table>\n",
              "</div>"
            ],
            "text/plain": [
              "      tconst titleType            primaryTitle           originalTitle  \\\n",
              "0  tt0000001     short              Carmencita              Carmencita   \n",
              "1  tt0000002     short  Le clown et ses chiens  Le clown et ses chiens   \n",
              "2  tt0000003     short          Pauvre Pierrot          Pauvre Pierrot   \n",
              "3  tt0000004     short             Un bon bock             Un bon bock   \n",
              "4  tt0000005     short        Blacksmith Scene        Blacksmith Scene   \n",
              "\n",
              "  isAdult startYear endYear runtimeMinutes                    genres  \n",
              "0       0      1894      \\N              1         Documentary,Short  \n",
              "1       0      1892      \\N              5           Animation,Short  \n",
              "2       0      1892      \\N              4  Animation,Comedy,Romance  \n",
              "3       0      1892      \\N             12           Animation,Short  \n",
              "4       0      1893      \\N              1              Comedy,Short  "
            ]
          },
          "execution_count": 3,
          "metadata": {},
          "output_type": "execute_result"
        }
      ],
      "source": [
        "title_basics.head()"
      ]
    },
    {
      "cell_type": "code",
      "execution_count": 4,
      "id": "9cc5c6d7",
      "metadata": {
        "colab": {
          "base_uri": "https://localhost:8080/"
        },
        "id": "9cc5c6d7",
        "outputId": "121ab684-0639-4838-a883-1a0320bf0941"
      },
      "outputs": [
        {
          "name": "stdout",
          "output_type": "stream",
          "text": [
            "<class 'pandas.core.frame.DataFrame'>\n",
            "RangeIndex: 8468615 entries, 0 to 8468614\n",
            "Data columns (total 9 columns):\n",
            " #   Column          Dtype \n",
            "---  ------          ----- \n",
            " 0   tconst          object\n",
            " 1   titleType       object\n",
            " 2   primaryTitle    object\n",
            " 3   originalTitle   object\n",
            " 4   isAdult         object\n",
            " 5   startYear       object\n",
            " 6   endYear         object\n",
            " 7   runtimeMinutes  object\n",
            " 8   genres          object\n",
            "dtypes: object(9)\n",
            "memory usage: 581.5+ MB\n"
          ]
        }
      ],
      "source": [
        "title_basics.info()"
      ]
    },
    {
      "cell_type": "code",
      "execution_count": 5,
      "id": "db27a09a",
      "metadata": {
        "colab": {
          "base_uri": "https://localhost:8080/"
        },
        "id": "db27a09a",
        "outputId": "4e0b9bcc-866a-4f63-d320-f4c45ffb5a4d"
      },
      "outputs": [
        {
          "data": {
            "text/plain": [
              "tconst            object\n",
              "titleType         object\n",
              "primaryTitle      object\n",
              "originalTitle     object\n",
              "isAdult           object\n",
              "startYear         object\n",
              "endYear           object\n",
              "runtimeMinutes    object\n",
              "genres            object\n",
              "dtype: object"
            ]
          },
          "execution_count": 5,
          "metadata": {},
          "output_type": "execute_result"
        }
      ],
      "source": [
        "title_basics.dtypes"
      ]
    },
    {
      "cell_type": "code",
      "execution_count": 6,
      "id": "3e55e9b2",
      "metadata": {
        "colab": {
          "base_uri": "https://localhost:8080/"
        },
        "id": "3e55e9b2",
        "outputId": "7f23ffdd-4d37-439d-e661-c9c20fcc6e7a"
      },
      "outputs": [
        {
          "data": {
            "text/plain": [
              "(8468615, 9)"
            ]
          },
          "execution_count": 6,
          "metadata": {},
          "output_type": "execute_result"
        }
      ],
      "source": [
        "title_basics.shape"
      ]
    },
    {
      "cell_type": "code",
      "execution_count": 7,
      "id": "e285287f",
      "metadata": {
        "id": "e285287f"
      },
      "outputs": [],
      "source": [
        "# copy du dataset\n",
        "title_basics1 = title_basics.copy()"
      ]
    },
    {
      "cell_type": "markdown",
      "id": "a20e1ab2",
      "metadata": {
        "id": "a20e1ab2"
      },
      "source": [
        "## 2. Valeurs manquantes"
      ]
    },
    {
      "cell_type": "code",
      "execution_count": 8,
      "id": "9d64d33e",
      "metadata": {
        "id": "9d64d33e"
      },
      "outputs": [],
      "source": [
        "title_basics1 = title_basics1.replace('\\\\N', np.NaN)"
      ]
    },
    {
      "cell_type": "code",
      "execution_count": 9,
      "id": "90f08428",
      "metadata": {
        "colab": {
          "base_uri": "https://localhost:8080/"
        },
        "id": "90f08428",
        "outputId": "3d8b1f51-c17b-4b70-8827-e6a46c2f80ff"
      },
      "outputs": [
        {
          "data": {
            "text/plain": [
              "tconst                  0\n",
              "titleType               0\n",
              "primaryTitle            9\n",
              "originalTitle           9\n",
              "isAdult                 1\n",
              "startYear         1028531\n",
              "endYear           8384656\n",
              "runtimeMinutes    6103771\n",
              "genres             391200\n",
              "dtype: int64"
            ]
          },
          "execution_count": 9,
          "metadata": {},
          "output_type": "execute_result"
        }
      ],
      "source": [
        "title_basics1.isna().sum()"
      ]
    },
    {
      "cell_type": "code",
      "execution_count": 10,
      "id": "4e5ce029",
      "metadata": {
        "colab": {
          "base_uri": "https://localhost:8080/"
        },
        "id": "4e5ce029",
        "outputId": "2b3d1363-05d6-4555-bcba-cdf36d48d2de"
      },
      "outputs": [
        {
          "data": {
            "text/plain": [
              "tconst             0.000000\n",
              "titleType          0.000000\n",
              "isAdult            0.000012\n",
              "primaryTitle       0.000106\n",
              "originalTitle      0.000106\n",
              "genres             4.619409\n",
              "startYear         12.145209\n",
              "runtimeMinutes    72.075198\n",
              "endYear           99.008586\n",
              "dtype: float64"
            ]
          },
          "execution_count": 10,
          "metadata": {},
          "output_type": "execute_result"
        }
      ],
      "source": [
        "# pourcentage de valeurs manquantes dans chaque colonne\n",
        "((title_basics1.isna().sum()/ title_basics1.shape[0]) *100).sort_values()"
      ]
    },
    {
      "cell_type": "markdown",
      "id": "69b9916a",
      "metadata": {
        "id": "69b9916a"
      },
      "source": [
        "## 3. Changement type de données"
      ]
    },
    {
      "cell_type": "code",
      "execution_count": 11,
      "id": "93bed071",
      "metadata": {
        "colab": {
          "base_uri": "https://localhost:8080/"
        },
        "id": "93bed071",
        "outputId": "d4805f65-c1c7-4220-d354-df19788d4a3f"
      },
      "outputs": [
        {
          "data": {
            "text/plain": [
              "tconst            object\n",
              "titleType         object\n",
              "primaryTitle      object\n",
              "originalTitle     object\n",
              "isAdult           object\n",
              "startYear         object\n",
              "endYear           object\n",
              "runtimeMinutes    object\n",
              "genres            object\n",
              "dtype: object"
            ]
          },
          "execution_count": 11,
          "metadata": {},
          "output_type": "execute_result"
        }
      ],
      "source": [
        "title_basics1.dtypes\n",
        "\n",
        "# champ date startyear et endyear\n",
        "# float de runtimeMinutes (pas int car valeurs manquantes)"
      ]
    },
    {
      "cell_type": "code",
      "execution_count": 12,
      "id": "13f3f91b",
      "metadata": {
        "colab": {
          "base_uri": "https://localhost:8080/",
          "height": 203
        },
        "id": "13f3f91b",
        "outputId": "aaa65890-cdcf-46a3-ed5b-ba5572cebf46"
      },
      "outputs": [
        {
          "data": {
            "text/html": [
              "<div>\n",
              "<style scoped>\n",
              "    .dataframe tbody tr th:only-of-type {\n",
              "        vertical-align: middle;\n",
              "    }\n",
              "\n",
              "    .dataframe tbody tr th {\n",
              "        vertical-align: top;\n",
              "    }\n",
              "\n",
              "    .dataframe thead th {\n",
              "        text-align: right;\n",
              "    }\n",
              "</style>\n",
              "<table border=\"1\" class=\"dataframe\">\n",
              "  <thead>\n",
              "    <tr style=\"text-align: right;\">\n",
              "      <th></th>\n",
              "      <th>tconst</th>\n",
              "      <th>titleType</th>\n",
              "      <th>primaryTitle</th>\n",
              "      <th>originalTitle</th>\n",
              "      <th>isAdult</th>\n",
              "      <th>startYear</th>\n",
              "      <th>endYear</th>\n",
              "      <th>runtimeMinutes</th>\n",
              "      <th>genres</th>\n",
              "    </tr>\n",
              "  </thead>\n",
              "  <tbody>\n",
              "    <tr>\n",
              "      <th>0</th>\n",
              "      <td>tt0000001</td>\n",
              "      <td>short</td>\n",
              "      <td>Carmencita</td>\n",
              "      <td>Carmencita</td>\n",
              "      <td>0</td>\n",
              "      <td>1894</td>\n",
              "      <td>NaN</td>\n",
              "      <td>1</td>\n",
              "      <td>Documentary,Short</td>\n",
              "    </tr>\n",
              "    <tr>\n",
              "      <th>1</th>\n",
              "      <td>tt0000002</td>\n",
              "      <td>short</td>\n",
              "      <td>Le clown et ses chiens</td>\n",
              "      <td>Le clown et ses chiens</td>\n",
              "      <td>0</td>\n",
              "      <td>1892</td>\n",
              "      <td>NaN</td>\n",
              "      <td>5</td>\n",
              "      <td>Animation,Short</td>\n",
              "    </tr>\n",
              "    <tr>\n",
              "      <th>2</th>\n",
              "      <td>tt0000003</td>\n",
              "      <td>short</td>\n",
              "      <td>Pauvre Pierrot</td>\n",
              "      <td>Pauvre Pierrot</td>\n",
              "      <td>0</td>\n",
              "      <td>1892</td>\n",
              "      <td>NaN</td>\n",
              "      <td>4</td>\n",
              "      <td>Animation,Comedy,Romance</td>\n",
              "    </tr>\n",
              "    <tr>\n",
              "      <th>3</th>\n",
              "      <td>tt0000004</td>\n",
              "      <td>short</td>\n",
              "      <td>Un bon bock</td>\n",
              "      <td>Un bon bock</td>\n",
              "      <td>0</td>\n",
              "      <td>1892</td>\n",
              "      <td>NaN</td>\n",
              "      <td>12</td>\n",
              "      <td>Animation,Short</td>\n",
              "    </tr>\n",
              "    <tr>\n",
              "      <th>4</th>\n",
              "      <td>tt0000005</td>\n",
              "      <td>short</td>\n",
              "      <td>Blacksmith Scene</td>\n",
              "      <td>Blacksmith Scene</td>\n",
              "      <td>0</td>\n",
              "      <td>1893</td>\n",
              "      <td>NaN</td>\n",
              "      <td>1</td>\n",
              "      <td>Comedy,Short</td>\n",
              "    </tr>\n",
              "  </tbody>\n",
              "</table>\n",
              "</div>"
            ],
            "text/plain": [
              "      tconst titleType            primaryTitle           originalTitle  \\\n",
              "0  tt0000001     short              Carmencita              Carmencita   \n",
              "1  tt0000002     short  Le clown et ses chiens  Le clown et ses chiens   \n",
              "2  tt0000003     short          Pauvre Pierrot          Pauvre Pierrot   \n",
              "3  tt0000004     short             Un bon bock             Un bon bock   \n",
              "4  tt0000005     short        Blacksmith Scene        Blacksmith Scene   \n",
              "\n",
              "  isAdult startYear endYear runtimeMinutes                    genres  \n",
              "0       0      1894     NaN              1         Documentary,Short  \n",
              "1       0      1892     NaN              5           Animation,Short  \n",
              "2       0      1892     NaN              4  Animation,Comedy,Romance  \n",
              "3       0      1892     NaN             12           Animation,Short  \n",
              "4       0      1893     NaN              1              Comedy,Short  "
            ]
          },
          "execution_count": 12,
          "metadata": {},
          "output_type": "execute_result"
        }
      ],
      "source": [
        "title_basics1.head()"
      ]
    },
    {
      "cell_type": "code",
      "execution_count": 13,
      "id": "3897bfcd",
      "metadata": {
        "id": "3897bfcd"
      },
      "outputs": [],
      "source": [
        "# des str sont dans la colonne runtimeMinutes, je dois les remplacer en NaN pour pouvoir passer la colonne en float\n",
        "title_basics1['runtimeMinutes'] = title_basics1['runtimeMinutes'].replace('Reality-TV', np.NaN)"
      ]
    },
    {
      "cell_type": "code",
      "execution_count": 14,
      "id": "6194be4c",
      "metadata": {
        "id": "6194be4c"
      },
      "outputs": [],
      "source": [
        "title_basics1['runtimeMinutes'] = title_basics1['runtimeMinutes'].replace('Documentary', np.NaN)"
      ]
    },
    {
      "cell_type": "code",
      "execution_count": 15,
      "id": "45d777b1",
      "metadata": {
        "id": "45d777b1"
      },
      "outputs": [],
      "source": [
        "title_basics1['runtimeMinutes'] = title_basics1['runtimeMinutes'].replace('Talk-Show', np.NaN)"
      ]
    },
    {
      "cell_type": "code",
      "execution_count": 16,
      "id": "ad81f3d4",
      "metadata": {
        "id": "ad81f3d4"
      },
      "outputs": [],
      "source": [
        "title_basics1['runtimeMinutes'] = title_basics1['runtimeMinutes'].replace('Game-Show', np.NaN)"
      ]
    },
    {
      "cell_type": "code",
      "execution_count": 17,
      "id": "23071eba",
      "metadata": {
        "id": "23071eba"
      },
      "outputs": [],
      "source": [
        "title_basics1['runtimeMinutes'] = title_basics1['runtimeMinutes'].replace('Animation,Comedy,Family', np.NaN)"
      ]
    },
    {
      "cell_type": "code",
      "execution_count": 18,
      "id": "fb6867d0",
      "metadata": {
        "id": "fb6867d0"
      },
      "outputs": [],
      "source": [
        "title_basics1['runtimeMinutes'] = title_basics1['runtimeMinutes'].astype(float)"
      ]
    },
    {
      "cell_type": "code",
      "execution_count": 19,
      "id": "f8908d58",
      "metadata": {
        "colab": {
          "base_uri": "https://localhost:8080/"
        },
        "id": "f8908d58",
        "outputId": "e5727348-b577-40a8-e1e5-1f87c69efd76"
      },
      "outputs": [
        {
          "data": {
            "text/plain": [
              "tconst             object\n",
              "titleType          object\n",
              "primaryTitle       object\n",
              "originalTitle      object\n",
              "isAdult            object\n",
              "startYear          object\n",
              "endYear            object\n",
              "runtimeMinutes    float64\n",
              "genres             object\n",
              "dtype: object"
            ]
          },
          "execution_count": 19,
          "metadata": {},
          "output_type": "execute_result"
        }
      ],
      "source": [
        "title_basics1.dtypes"
      ]
    },
    {
      "cell_type": "markdown",
      "id": "9520b87a",
      "metadata": {
        "id": "9520b87a"
      },
      "source": [
        "## 4. IsAdult == 0"
      ]
    },
    {
      "cell_type": "code",
      "execution_count": 20,
      "id": "cc915d76",
      "metadata": {
        "id": "cc915d76"
      },
      "outputs": [],
      "source": [
        "title_basics1 = title_basics1[title_basics1['isAdult'] == '0']"
      ]
    },
    {
      "cell_type": "code",
      "execution_count": 21,
      "id": "cb10de66",
      "metadata": {
        "colab": {
          "base_uri": "https://localhost:8080/"
        },
        "id": "cb10de66",
        "outputId": "a89b8454-f1a5-4d85-f3e8-bb3ddfd6ce08"
      },
      "outputs": [
        {
          "data": {
            "text/plain": [
              "(8209628, 9)"
            ]
          },
          "execution_count": 21,
          "metadata": {},
          "output_type": "execute_result"
        }
      ],
      "source": [
        "title_basics1.shape"
      ]
    },
    {
      "cell_type": "markdown",
      "id": "45559d43",
      "metadata": {
        "id": "45559d43"
      },
      "source": [
        "## 5. Exploration des données\n",
        "## 5.1 Genres par type de titre\n",
        "\n",
        "Ce qui ressort :\n",
        "- sur tout le dataset le top 5 des genres est:\n",
        "    - Drama\n",
        "    - Comedy\n",
        "    - Documentary\n",
        "    - Talk Show\n",
        "    - News\n",
        "    \n",
        "- pour les films :\n",
        "    - Drama\n",
        "    - Documentary\n",
        "    - Comedy\n",
        "    - Action\n",
        "    - Horor\n",
        "\n",
        "- pour les séries :\n",
        "    - Comedy\n",
        "    - Drame\n",
        "    - Documentary\n",
        "    - Reality-TV\n",
        "    - Talk-show"
      ]
    },
    {
      "cell_type": "code",
      "execution_count": 22,
      "id": "b3bca397",
      "metadata": {
        "id": "b3bca397"
      },
      "outputs": [],
      "source": [
        "# tous les genres : faire un split des genres \n",
        "# genre par type de titre\n",
        "# genre les mieux notés\n",
        "# genre les plus notés (donc les plus vus)\n",
        "# acteur et directeur les plus représentés par genre"
      ]
    },
    {
      "cell_type": "code",
      "execution_count": 23,
      "id": "cbfca71b",
      "metadata": {
        "colab": {
          "base_uri": "https://localhost:8080/"
        },
        "id": "cbfca71b",
        "outputId": "4473a7bc-3270-43fd-da26-141cd908595a"
      },
      "outputs": [
        {
          "data": {
            "text/plain": [
              "0           Documentary,Short\n",
              "1             Animation,Short\n",
              "2    Animation,Comedy,Romance\n",
              "3             Animation,Short\n",
              "4                Comedy,Short\n",
              "Name: genres, dtype: object"
            ]
          },
          "execution_count": 23,
          "metadata": {},
          "output_type": "execute_result"
        }
      ],
      "source": [
        "title_basics1['genres'].head()"
      ]
    },
    {
      "cell_type": "code",
      "execution_count": 24,
      "id": "c3c3d170",
      "metadata": {
        "id": "c3c3d170"
      },
      "outputs": [],
      "source": [
        "# les genres sont séparés par des virgules : création colonne en plus avec les genres séparés\n",
        "\n",
        "# copie du dataset pour tester\n",
        "df_genre = title_basics.copy()\n",
        "\n",
        "# création d'un dataframe qui aura les genres en liste et je peux les séparer\n",
        "df_genre2 = title_basics1['genres'].str.split(',', expand=True)"
      ]
    },
    {
      "cell_type": "code",
      "execution_count": 25,
      "id": "4d5d69dc",
      "metadata": {
        "id": "4d5d69dc"
      },
      "outputs": [],
      "source": [
        "# j'assigne au dataset de base des nouvelles colonnes contenant les genres séparés\n",
        "df_genre['genre 1'] = df_genre2[0]\n",
        "df_genre['genre 2'] = df_genre2[1]\n",
        "df_genre['genre 3'] = df_genre2[2]"
      ]
    },
    {
      "cell_type": "code",
      "execution_count": 26,
      "id": "318cc0d0",
      "metadata": {
        "colab": {
          "base_uri": "https://localhost:8080/",
          "height": 203
        },
        "id": "318cc0d0",
        "outputId": "7c12e87b-d162-443a-cfee-bec41d89b822",
        "scrolled": true
      },
      "outputs": [
        {
          "data": {
            "text/html": [
              "<div>\n",
              "<style scoped>\n",
              "    .dataframe tbody tr th:only-of-type {\n",
              "        vertical-align: middle;\n",
              "    }\n",
              "\n",
              "    .dataframe tbody tr th {\n",
              "        vertical-align: top;\n",
              "    }\n",
              "\n",
              "    .dataframe thead th {\n",
              "        text-align: right;\n",
              "    }\n",
              "</style>\n",
              "<table border=\"1\" class=\"dataframe\">\n",
              "  <thead>\n",
              "    <tr style=\"text-align: right;\">\n",
              "      <th></th>\n",
              "      <th>tconst</th>\n",
              "      <th>titleType</th>\n",
              "      <th>primaryTitle</th>\n",
              "      <th>originalTitle</th>\n",
              "      <th>isAdult</th>\n",
              "      <th>startYear</th>\n",
              "      <th>endYear</th>\n",
              "      <th>runtimeMinutes</th>\n",
              "      <th>genres</th>\n",
              "      <th>genre 1</th>\n",
              "      <th>genre 2</th>\n",
              "      <th>genre 3</th>\n",
              "    </tr>\n",
              "  </thead>\n",
              "  <tbody>\n",
              "    <tr>\n",
              "      <th>0</th>\n",
              "      <td>tt0000001</td>\n",
              "      <td>short</td>\n",
              "      <td>Carmencita</td>\n",
              "      <td>Carmencita</td>\n",
              "      <td>0</td>\n",
              "      <td>1894</td>\n",
              "      <td>\\N</td>\n",
              "      <td>1</td>\n",
              "      <td>Documentary,Short</td>\n",
              "      <td>Documentary</td>\n",
              "      <td>Short</td>\n",
              "      <td>None</td>\n",
              "    </tr>\n",
              "    <tr>\n",
              "      <th>1</th>\n",
              "      <td>tt0000002</td>\n",
              "      <td>short</td>\n",
              "      <td>Le clown et ses chiens</td>\n",
              "      <td>Le clown et ses chiens</td>\n",
              "      <td>0</td>\n",
              "      <td>1892</td>\n",
              "      <td>\\N</td>\n",
              "      <td>5</td>\n",
              "      <td>Animation,Short</td>\n",
              "      <td>Animation</td>\n",
              "      <td>Short</td>\n",
              "      <td>None</td>\n",
              "    </tr>\n",
              "    <tr>\n",
              "      <th>2</th>\n",
              "      <td>tt0000003</td>\n",
              "      <td>short</td>\n",
              "      <td>Pauvre Pierrot</td>\n",
              "      <td>Pauvre Pierrot</td>\n",
              "      <td>0</td>\n",
              "      <td>1892</td>\n",
              "      <td>\\N</td>\n",
              "      <td>4</td>\n",
              "      <td>Animation,Comedy,Romance</td>\n",
              "      <td>Animation</td>\n",
              "      <td>Comedy</td>\n",
              "      <td>Romance</td>\n",
              "    </tr>\n",
              "    <tr>\n",
              "      <th>3</th>\n",
              "      <td>tt0000004</td>\n",
              "      <td>short</td>\n",
              "      <td>Un bon bock</td>\n",
              "      <td>Un bon bock</td>\n",
              "      <td>0</td>\n",
              "      <td>1892</td>\n",
              "      <td>\\N</td>\n",
              "      <td>12</td>\n",
              "      <td>Animation,Short</td>\n",
              "      <td>Animation</td>\n",
              "      <td>Short</td>\n",
              "      <td>None</td>\n",
              "    </tr>\n",
              "    <tr>\n",
              "      <th>4</th>\n",
              "      <td>tt0000005</td>\n",
              "      <td>short</td>\n",
              "      <td>Blacksmith Scene</td>\n",
              "      <td>Blacksmith Scene</td>\n",
              "      <td>0</td>\n",
              "      <td>1893</td>\n",
              "      <td>\\N</td>\n",
              "      <td>1</td>\n",
              "      <td>Comedy,Short</td>\n",
              "      <td>Comedy</td>\n",
              "      <td>Short</td>\n",
              "      <td>None</td>\n",
              "    </tr>\n",
              "  </tbody>\n",
              "</table>\n",
              "</div>"
            ],
            "text/plain": [
              "      tconst titleType            primaryTitle           originalTitle  \\\n",
              "0  tt0000001     short              Carmencita              Carmencita   \n",
              "1  tt0000002     short  Le clown et ses chiens  Le clown et ses chiens   \n",
              "2  tt0000003     short          Pauvre Pierrot          Pauvre Pierrot   \n",
              "3  tt0000004     short             Un bon bock             Un bon bock   \n",
              "4  tt0000005     short        Blacksmith Scene        Blacksmith Scene   \n",
              "\n",
              "  isAdult startYear endYear runtimeMinutes                    genres  \\\n",
              "0       0      1894      \\N              1         Documentary,Short   \n",
              "1       0      1892      \\N              5           Animation,Short   \n",
              "2       0      1892      \\N              4  Animation,Comedy,Romance   \n",
              "3       0      1892      \\N             12           Animation,Short   \n",
              "4       0      1893      \\N              1              Comedy,Short   \n",
              "\n",
              "       genre 1 genre 2  genre 3  \n",
              "0  Documentary   Short     None  \n",
              "1    Animation   Short     None  \n",
              "2    Animation  Comedy  Romance  \n",
              "3    Animation   Short     None  \n",
              "4       Comedy   Short     None  "
            ]
          },
          "execution_count": 26,
          "metadata": {},
          "output_type": "execute_result"
        }
      ],
      "source": [
        "df_genre.head()"
      ]
    },
    {
      "cell_type": "code",
      "execution_count": 27,
      "id": "c0aa1c67",
      "metadata": {
        "id": "c0aa1c67"
      },
      "outputs": [],
      "source": [
        "df_genre = df_genre.replace('\\\\N', np.NaN)"
      ]
    },
    {
      "cell_type": "code",
      "execution_count": 28,
      "id": "fff077fd",
      "metadata": {
        "colab": {
          "base_uri": "https://localhost:8080/"
        },
        "id": "fff077fd",
        "outputId": "95a7345f-36c0-430f-8ad8-cc1b19e111df"
      },
      "outputs": [
        {
          "data": {
            "text/plain": [
              "Drama          1746062\n",
              "Comedy         1476719\n",
              "Documentary     697365\n",
              "News            607202\n",
              "Talk-Show       504791\n",
              "Action          339143\n",
              "Reality-TV      280044\n",
              "Animation       267722\n",
              "Family          258159\n",
              "Crime           248691\n",
              "Music           238089\n",
              "Short           204426\n",
              "Adventure       203149\n",
              "Game-Show       181789\n",
              "Sport           110281\n",
              "Romance         103353\n",
              "Biography        83714\n",
              "Horror           80568\n",
              "Fantasy          39884\n",
              "Sci-Fi           31951\n",
              "Thriller         31738\n",
              "History          26104\n",
              "Mystery          24219\n",
              "Musical          19478\n",
              "Western          13893\n",
              "War               2650\n",
              "Adult              788\n",
              "Film-Noir           36\n",
              "Name: genre 1, dtype: int64"
            ]
          },
          "execution_count": 28,
          "metadata": {},
          "output_type": "execute_result"
        }
      ],
      "source": [
        "df_genre['genre 1'].value_counts()"
      ]
    },
    {
      "cell_type": "code",
      "execution_count": 29,
      "id": "a6a62ed3",
      "metadata": {
        "colab": {
          "base_uri": "https://localhost:8080/",
          "height": 372
        },
        "id": "a6a62ed3",
        "outputId": "1d281a1c-4593-42da-8be6-0e3c377dd4b0"
      },
      "outputs": [
        {
          "data": {
            "text/plain": [
              "<Figure size 720x360 with 0 Axes>"
            ]
          },
          "metadata": {},
          "output_type": "display_data"
        },
        {
          "data": {
            "image/png": "[encoded data removed]",
            "text/plain": [
              "<Figure size 720x360 with 1 Axes>"
            ]
          },
          "metadata": {
            "needs_background": "light"
          },
          "output_type": "display_data"
        }
      ],
      "source": [
        "# distribution des genre 1, toute catégorie de titre confondue\n",
        "fig= plt.figure(figsize=(10,5))\n",
        "fig= plt.figure(figsize=(10,5))\n",
        "sns.set_theme(style=\"darkgrid\")\n",
        "sns.set_color_codes(\"pastel\")\n",
        "sns.countplot(y='genre 1', data=df_genre, color = 'b')\n",
        "plt.title('Genre distribution in the global dataset')\n",
        "plt.xlabel('Nb title')\n",
        "plt.ylabel('Genre')\n",
        "\n",
        "plt.show()"
      ]
    },
    {
      "cell_type": "code",
      "execution_count": 31,
      "id": "4bb59f4f",
      "metadata": {
        "colab": {
          "base_uri": "https://localhost:8080/"
        },
        "id": "4bb59f4f",
        "outputId": "e7f4129b-b0fe-40c5-b657-b6a15616ca48"
      },
      "outputs": [
        {
          "data": {
            "text/plain": [
              "Romance       392078\n",
              "Short         172598\n",
              "Family         75874\n",
              "Mystery        31804\n",
              "Fantasy        28857\n",
              "History        21844\n",
              "Reality-TV     13895\n",
              "Horror         13240\n",
              "Thriller       11451\n",
              "Talk-Show       9472\n",
              "Music           8771\n",
              "Sci-Fi          6741\n",
              "Musical         5771\n",
              "War             5170\n",
              "Sport           3035\n",
              "Western          926\n",
              "Game-Show        667\n",
              "News             417\n",
              "Film-Noir        138\n",
              "Name: genre 2, dtype: int64"
            ]
          },
          "execution_count": 31,
          "metadata": {},
          "output_type": "execute_result"
        }
      ],
      "source": [
        "# 2e genre quand le premier est Drama\n",
        "df_genre.loc[df_genre['genre 1'] == 'Drama', \"genre 2\"].value_counts()"
      ]
    },
    {
      "cell_type": "code",
      "execution_count": 32,
      "id": "ee1675ae",
      "metadata": {
        "colab": {
          "base_uri": "https://localhost:8080/"
        },
        "id": "ee1675ae",
        "outputId": "f235d7a3-2959-4b85-e71d-294011d14562"
      },
      "outputs": [
        {
          "data": {
            "text/plain": [
              "Drama          236985\n",
              "Short          136986\n",
              "Talk-Show       91197\n",
              "Family          85850\n",
              "Music           69179\n",
              "Romance         45375\n",
              "Game-Show       39641\n",
              "Crime           38700\n",
              "News            37301\n",
              "Documentary     20156\n",
              "Reality-TV      18043\n",
              "Horror          17042\n",
              "Fantasy         13220\n",
              "Musical          9642\n",
              "Sci-Fi           5807\n",
              "Sport            4869\n",
              "History          3350\n",
              "Mystery          2704\n",
              "War              1265\n",
              "Thriller          945\n",
              "Western           800\n",
              "Film-Noir           1\n",
              "Name: genre 2, dtype: int64"
            ]
          },
          "execution_count": 32,
          "metadata": {},
          "output_type": "execute_result"
        }
      ],
      "source": [
        "# 2e genre quand le premier est Comedy\n",
        "df_genre.loc[df_genre['genre 1'] == 'Comedy', \"genre 2\"].value_counts()"
      ]
    },
    {
      "cell_type": "code",
      "execution_count": 33,
      "id": "765dcfd3",
      "metadata": {
        "colab": {
          "base_uri": "https://localhost:8080/",
          "height": 372
        },
        "id": "765dcfd3",
        "outputId": "9e8640b8-b800-442d-ee19-ffe4e664cfc3"
      },
      "outputs": [
        {
          "data": {
            "text/plain": [
              "<Figure size 720x360 with 0 Axes>"
            ]
          },
          "metadata": {},
          "output_type": "display_data"
        },
        {
          "data": {
            "image/png": "[encoded data removed]",
            "text/plain": [
              "<Figure size 720x360 with 1 Axes>"
            ]
          },
          "metadata": {},
          "output_type": "display_data"
        }
      ],
      "source": [
        "# distrib genre 2\n",
        "fig= plt.figure(figsize=(10,5))\n",
        "fig= plt.figure(figsize=(10,5))\n",
        "\n",
        "sns.countplot(y='genre 2', data=df_genre, color='b')\n",
        "plt.title('Genre n°2')\n",
        "plt.show()"
      ]
    },
    {
      "cell_type": "code",
      "execution_count": 35,
      "id": "4cf22df2",
      "metadata": {
        "id": "4cf22df2"
      },
      "outputs": [],
      "source": [
        "# genre des films\n",
        "movies = df_genre[df_genre['titleType'] =='movie']"
      ]
    },
    {
      "cell_type": "code",
      "execution_count": 36,
      "id": "5b421754",
      "metadata": {
        "colab": {
          "base_uri": "https://localhost:8080/",
          "height": 355
        },
        "id": "5b421754",
        "outputId": "f0a8b480-7d2d-47a3-85ac-6efb4bd3580c"
      },
      "outputs": [
        {
          "data": {
            "image/png": "[encoded data removed]",
            "text/plain": [
              "<Figure size 720x360 with 1 Axes>"
            ]
          },
          "metadata": {},
          "output_type": "display_data"
        }
      ],
      "source": [
        "fig= plt.figure(figsize=(10,5))\n",
        "sns.countplot(y='genre 1', data=movies, color='b')\n",
        "plt.title('Movies by genre')\n",
        "plt.xlabel('Nb movies')\n",
        "plt.ylabel('Genre')\n",
        "plt.show()"
      ]
    },
    {
      "cell_type": "code",
      "execution_count": 38,
      "id": "3b1dc4d8",
      "metadata": {
        "colab": {
          "base_uri": "https://localhost:8080/"
        },
        "id": "3b1dc4d8",
        "outputId": "71218cc2-6b00-4425-f08b-f34128c9cd28"
      },
      "outputs": [
        {
          "data": {
            "text/plain": [
              "tvEpisode       6239146\n",
              "short            841699\n",
              "movie            593944\n",
              "video            328437\n",
              "tvSeries         216244\n",
              "tvMovie          133655\n",
              "tvMiniSeries      40632\n",
              "tvSpecial         34814\n",
              "videoGame         29695\n",
              "tvShort           10347\n",
              "tvPilot               2\n",
              "Name: titleType, dtype: int64"
            ]
          },
          "execution_count": 38,
          "metadata": {},
          "output_type": "execute_result"
        }
      ],
      "source": [
        "df_genre['titleType'].value_counts()"
      ]
    },
    {
      "cell_type": "code",
      "execution_count": 39,
      "id": "bb577b69",
      "metadata": {
        "colab": {
          "base_uri": "https://localhost:8080/",
          "height": 355
        },
        "id": "bb577b69",
        "outputId": "35d773d2-9d2a-42dd-8b52-f7225bb446bb"
      },
      "outputs": [
        {
          "data": {
            "image/png": "[encoded data removed]",
            "text/plain": [
              "<Figure size 720x360 with 1 Axes>"
            ]
          },
          "metadata": {},
          "output_type": "display_data"
        }
      ],
      "source": [
        "# genre des courts métrage\n",
        "short = df_genre[df_genre['titleType'] =='short']\n",
        "\n",
        "fig= plt.figure(figsize=(10,5))\n",
        "sns.countplot(y='genre 1', data=short, color = 'b')\n",
        "plt.title('Shorts by genre')\n",
        "plt.xlabel('Nb short')\n",
        "plt.ylabel('Genre')\n",
        "plt.show()"
      ]
    },
    {
      "cell_type": "code",
      "execution_count": 40,
      "id": "6dfc17bf",
      "metadata": {
        "colab": {
          "base_uri": "https://localhost:8080/",
          "height": 355
        },
        "id": "6dfc17bf",
        "outputId": "ec5db9b7-43c4-46b1-9b99-737581bbc7ef"
      },
      "outputs": [
        {
          "data": {
            "image/png": "[encoded data removed]",
            "text/plain": [
              "<Figure size 720x360 with 1 Axes>"
            ]
          },
          "metadata": {},
          "output_type": "display_data"
        }
      ],
      "source": [
        "# genre des séries et mini séries\n",
        "series = df_genre[(df_genre['titleType'] =='tvSeries') | (df_genre['titleType'] =='tvMiniSeries')]\n",
        "\n",
        "fig= plt.figure(figsize=(10,5))\n",
        "sns.countplot(y='genre 1', data=series, color='b')\n",
        "plt.title('Series by genre')\n",
        "plt.xlabel('Nb short')\n",
        "plt.ylabel('Genre')\n",
        "plt.show()"
      ]
    },
    {
      "cell_type": "markdown",
      "id": "6827d550",
      "metadata": {
        "id": "6827d550"
      },
      "source": [
        "## 5.2 Genre les mieux notés et les plus notés"
      ]
    },
    {
      "cell_type": "code",
      "execution_count": 42,
      "id": "0401cf7b",
      "metadata": {
        "id": "0401cf7b"
      },
      "outputs": [],
      "source": [
        "# importer ratings\n",
        "# title.ratings\n",
        "title_ratings= pd.read_csv('https://datasets.imdbws.com/title.ratings.tsv.gz', sep = '\\t')\n"
      ]
    },
    {
      "cell_type": "code",
      "execution_count": 43,
      "id": "f084d1cf",
      "metadata": {
        "colab": {
          "base_uri": "https://localhost:8080/",
          "height": 203
        },
        "id": "f084d1cf",
        "outputId": "8b055bfd-6347-41df-c38f-268db396428e"
      },
      "outputs": [
        {
          "data": {
            "text/html": [
              "<div>\n",
              "<style scoped>\n",
              "    .dataframe tbody tr th:only-of-type {\n",
              "        vertical-align: middle;\n",
              "    }\n",
              "\n",
              "    .dataframe tbody tr th {\n",
              "        vertical-align: top;\n",
              "    }\n",
              "\n",
              "    .dataframe thead th {\n",
              "        text-align: right;\n",
              "    }\n",
              "</style>\n",
              "<table border=\"1\" class=\"dataframe\">\n",
              "  <thead>\n",
              "    <tr style=\"text-align: right;\">\n",
              "      <th></th>\n",
              "      <th>tconst</th>\n",
              "      <th>averageRating</th>\n",
              "      <th>numVotes</th>\n",
              "    </tr>\n",
              "  </thead>\n",
              "  <tbody>\n",
              "    <tr>\n",
              "      <th>0</th>\n",
              "      <td>tt0000001</td>\n",
              "      <td>5.7</td>\n",
              "      <td>1836</td>\n",
              "    </tr>\n",
              "    <tr>\n",
              "      <th>1</th>\n",
              "      <td>tt0000002</td>\n",
              "      <td>6.0</td>\n",
              "      <td>236</td>\n",
              "    </tr>\n",
              "    <tr>\n",
              "      <th>2</th>\n",
              "      <td>tt0000003</td>\n",
              "      <td>6.5</td>\n",
              "      <td>1596</td>\n",
              "    </tr>\n",
              "    <tr>\n",
              "      <th>3</th>\n",
              "      <td>tt0000004</td>\n",
              "      <td>6.0</td>\n",
              "      <td>153</td>\n",
              "    </tr>\n",
              "    <tr>\n",
              "      <th>4</th>\n",
              "      <td>tt0000005</td>\n",
              "      <td>6.2</td>\n",
              "      <td>2412</td>\n",
              "    </tr>\n",
              "  </tbody>\n",
              "</table>\n",
              "</div>"
            ],
            "text/plain": [
              "      tconst  averageRating  numVotes\n",
              "0  tt0000001            5.7      1836\n",
              "1  tt0000002            6.0       236\n",
              "2  tt0000003            6.5      1596\n",
              "3  tt0000004            6.0       153\n",
              "4  tt0000005            6.2      2412"
            ]
          },
          "execution_count": 43,
          "metadata": {},
          "output_type": "execute_result"
        }
      ],
      "source": [
        "ratings = title_ratings.copy()\n",
        "ratings.head()"
      ]
    },
    {
      "cell_type": "code",
      "execution_count": 44,
      "id": "46d7dea5",
      "metadata": {
        "colab": {
          "base_uri": "https://localhost:8080/"
        },
        "id": "46d7dea5",
        "outputId": "1b7643ef-a988-4b57-d693-cbf4d46d1e11"
      },
      "outputs": [
        {
          "data": {
            "text/plain": [
              "tconst            object\n",
              "averageRating    float64\n",
              "numVotes           int64\n",
              "dtype: object"
            ]
          },
          "execution_count": 44,
          "metadata": {},
          "output_type": "execute_result"
        }
      ],
      "source": [
        "# types de données et valeurs manquantes\n",
        "ratings.dtypes"
      ]
    },
    {
      "cell_type": "code",
      "execution_count": 45,
      "id": "f6109fbc",
      "metadata": {
        "colab": {
          "base_uri": "https://localhost:8080/"
        },
        "id": "f6109fbc",
        "outputId": "ecb3d6f6-741c-468a-a65e-92525bb81b15"
      },
      "outputs": [
        {
          "data": {
            "text/plain": [
              "tconst           0\n",
              "averageRating    0\n",
              "numVotes         0\n",
              "dtype: int64"
            ]
          },
          "execution_count": 45,
          "metadata": {},
          "output_type": "execute_result"
        }
      ],
      "source": [
        "ratings.isna().sum()"
      ]
    },
    {
      "cell_type": "code",
      "execution_count": 46,
      "id": "d6202960",
      "metadata": {
        "colab": {
          "base_uri": "https://localhost:8080/",
          "height": 49
        },
        "id": "d6202960",
        "outputId": "7de9d601-31fe-40e5-a725-d91a402c9791"
      },
      "outputs": [
        {
          "data": {
            "text/html": [
              "<div>\n",
              "<style scoped>\n",
              "    .dataframe tbody tr th:only-of-type {\n",
              "        vertical-align: middle;\n",
              "    }\n",
              "\n",
              "    .dataframe tbody tr th {\n",
              "        vertical-align: top;\n",
              "    }\n",
              "\n",
              "    .dataframe thead th {\n",
              "        text-align: right;\n",
              "    }\n",
              "</style>\n",
              "<table border=\"1\" class=\"dataframe\">\n",
              "  <thead>\n",
              "    <tr style=\"text-align: right;\">\n",
              "      <th></th>\n",
              "      <th>tconst</th>\n",
              "      <th>averageRating</th>\n",
              "      <th>numVotes</th>\n",
              "    </tr>\n",
              "  </thead>\n",
              "  <tbody>\n",
              "  </tbody>\n",
              "</table>\n",
              "</div>"
            ],
            "text/plain": [
              "Empty DataFrame\n",
              "Columns: [tconst, averageRating, numVotes]\n",
              "Index: []"
            ]
          },
          "execution_count": 46,
          "metadata": {},
          "output_type": "execute_result"
        }
      ],
      "source": [
        "ratings[ratings['averageRating'] == '\\\\N']"
      ]
    },
    {
      "cell_type": "code",
      "execution_count": 47,
      "id": "82e20db1",
      "metadata": {
        "colab": {
          "base_uri": "https://localhost:8080/",
          "height": 49
        },
        "id": "82e20db1",
        "outputId": "d769aed6-73aa-4f32-d42a-1e5a4af74c86"
      },
      "outputs": [
        {
          "data": {
            "text/html": [
              "<div>\n",
              "<style scoped>\n",
              "    .dataframe tbody tr th:only-of-type {\n",
              "        vertical-align: middle;\n",
              "    }\n",
              "\n",
              "    .dataframe tbody tr th {\n",
              "        vertical-align: top;\n",
              "    }\n",
              "\n",
              "    .dataframe thead th {\n",
              "        text-align: right;\n",
              "    }\n",
              "</style>\n",
              "<table border=\"1\" class=\"dataframe\">\n",
              "  <thead>\n",
              "    <tr style=\"text-align: right;\">\n",
              "      <th></th>\n",
              "      <th>tconst</th>\n",
              "      <th>averageRating</th>\n",
              "      <th>numVotes</th>\n",
              "    </tr>\n",
              "  </thead>\n",
              "  <tbody>\n",
              "  </tbody>\n",
              "</table>\n",
              "</div>"
            ],
            "text/plain": [
              "Empty DataFrame\n",
              "Columns: [tconst, averageRating, numVotes]\n",
              "Index: []"
            ]
          },
          "execution_count": 47,
          "metadata": {},
          "output_type": "execute_result"
        }
      ],
      "source": [
        "ratings[ratings['numVotes'] == '\\\\N']"
      ]
    },
    {
      "cell_type": "code",
      "execution_count": 48,
      "id": "3dfa494e",
      "metadata": {
        "id": "3dfa494e"
      },
      "outputs": [],
      "source": [
        "# faire une merge du df_genre avec ratings : inner join car je ne veux que les données qui sont communes aux 2 DS\n",
        "genre_rating = df_genre.merge(ratings, on='tconst', how='inner')"
      ]
    },
    {
      "cell_type": "code",
      "execution_count": 49,
      "id": "e6eb12eb",
      "metadata": {
        "colab": {
          "base_uri": "https://localhost:8080/",
          "height": 237
        },
        "id": "e6eb12eb",
        "outputId": "c752d9de-2602-4ada-ef76-0642c2469792"
      },
      "outputs": [
        {
          "data": {
            "text/html": [
              "<div>\n",
              "<style scoped>\n",
              "    .dataframe tbody tr th:only-of-type {\n",
              "        vertical-align: middle;\n",
              "    }\n",
              "\n",
              "    .dataframe tbody tr th {\n",
              "        vertical-align: top;\n",
              "    }\n",
              "\n",
              "    .dataframe thead th {\n",
              "        text-align: right;\n",
              "    }\n",
              "</style>\n",
              "<table border=\"1\" class=\"dataframe\">\n",
              "  <thead>\n",
              "    <tr style=\"text-align: right;\">\n",
              "      <th></th>\n",
              "      <th>tconst</th>\n",
              "      <th>titleType</th>\n",
              "      <th>primaryTitle</th>\n",
              "      <th>originalTitle</th>\n",
              "      <th>isAdult</th>\n",
              "      <th>startYear</th>\n",
              "      <th>endYear</th>\n",
              "      <th>runtimeMinutes</th>\n",
              "      <th>genres</th>\n",
              "      <th>genre 1</th>\n",
              "      <th>genre 2</th>\n",
              "      <th>genre 3</th>\n",
              "      <th>averageRating</th>\n",
              "      <th>numVotes</th>\n",
              "    </tr>\n",
              "  </thead>\n",
              "  <tbody>\n",
              "    <tr>\n",
              "      <th>0</th>\n",
              "      <td>tt0000001</td>\n",
              "      <td>short</td>\n",
              "      <td>Carmencita</td>\n",
              "      <td>Carmencita</td>\n",
              "      <td>0</td>\n",
              "      <td>1894</td>\n",
              "      <td>NaN</td>\n",
              "      <td>1</td>\n",
              "      <td>Documentary,Short</td>\n",
              "      <td>Documentary</td>\n",
              "      <td>Short</td>\n",
              "      <td>None</td>\n",
              "      <td>5.7</td>\n",
              "      <td>1836</td>\n",
              "    </tr>\n",
              "    <tr>\n",
              "      <th>1</th>\n",
              "      <td>tt0000002</td>\n",
              "      <td>short</td>\n",
              "      <td>Le clown et ses chiens</td>\n",
              "      <td>Le clown et ses chiens</td>\n",
              "      <td>0</td>\n",
              "      <td>1892</td>\n",
              "      <td>NaN</td>\n",
              "      <td>5</td>\n",
              "      <td>Animation,Short</td>\n",
              "      <td>Animation</td>\n",
              "      <td>Short</td>\n",
              "      <td>None</td>\n",
              "      <td>6.0</td>\n",
              "      <td>236</td>\n",
              "    </tr>\n",
              "    <tr>\n",
              "      <th>2</th>\n",
              "      <td>tt0000003</td>\n",
              "      <td>short</td>\n",
              "      <td>Pauvre Pierrot</td>\n",
              "      <td>Pauvre Pierrot</td>\n",
              "      <td>0</td>\n",
              "      <td>1892</td>\n",
              "      <td>NaN</td>\n",
              "      <td>4</td>\n",
              "      <td>Animation,Comedy,Romance</td>\n",
              "      <td>Animation</td>\n",
              "      <td>Comedy</td>\n",
              "      <td>Romance</td>\n",
              "      <td>6.5</td>\n",
              "      <td>1596</td>\n",
              "    </tr>\n",
              "    <tr>\n",
              "      <th>3</th>\n",
              "      <td>tt0000004</td>\n",
              "      <td>short</td>\n",
              "      <td>Un bon bock</td>\n",
              "      <td>Un bon bock</td>\n",
              "      <td>0</td>\n",
              "      <td>1892</td>\n",
              "      <td>NaN</td>\n",
              "      <td>12</td>\n",
              "      <td>Animation,Short</td>\n",
              "      <td>Animation</td>\n",
              "      <td>Short</td>\n",
              "      <td>None</td>\n",
              "      <td>6.0</td>\n",
              "      <td>153</td>\n",
              "    </tr>\n",
              "    <tr>\n",
              "      <th>4</th>\n",
              "      <td>tt0000005</td>\n",
              "      <td>short</td>\n",
              "      <td>Blacksmith Scene</td>\n",
              "      <td>Blacksmith Scene</td>\n",
              "      <td>0</td>\n",
              "      <td>1893</td>\n",
              "      <td>NaN</td>\n",
              "      <td>1</td>\n",
              "      <td>Comedy,Short</td>\n",
              "      <td>Comedy</td>\n",
              "      <td>Short</td>\n",
              "      <td>None</td>\n",
              "      <td>6.2</td>\n",
              "      <td>2412</td>\n",
              "    </tr>\n",
              "  </tbody>\n",
              "</table>\n",
              "</div>"
            ],
            "text/plain": [
              "      tconst titleType            primaryTitle           originalTitle  \\\n",
              "0  tt0000001     short              Carmencita              Carmencita   \n",
              "1  tt0000002     short  Le clown et ses chiens  Le clown et ses chiens   \n",
              "2  tt0000003     short          Pauvre Pierrot          Pauvre Pierrot   \n",
              "3  tt0000004     short             Un bon bock             Un bon bock   \n",
              "4  tt0000005     short        Blacksmith Scene        Blacksmith Scene   \n",
              "\n",
              "  isAdult startYear endYear runtimeMinutes                    genres  \\\n",
              "0       0      1894     NaN              1         Documentary,Short   \n",
              "1       0      1892     NaN              5           Animation,Short   \n",
              "2       0      1892     NaN              4  Animation,Comedy,Romance   \n",
              "3       0      1892     NaN             12           Animation,Short   \n",
              "4       0      1893     NaN              1              Comedy,Short   \n",
              "\n",
              "       genre 1 genre 2  genre 3  averageRating  numVotes  \n",
              "0  Documentary   Short     None            5.7      1836  \n",
              "1    Animation   Short     None            6.0       236  \n",
              "2    Animation  Comedy  Romance            6.5      1596  \n",
              "3    Animation   Short     None            6.0       153  \n",
              "4       Comedy   Short     None            6.2      2412  "
            ]
          },
          "execution_count": 49,
          "metadata": {},
          "output_type": "execute_result"
        }
      ],
      "source": [
        "genre_rating.head()"
      ]
    },
    {
      "cell_type": "code",
      "execution_count": 50,
      "id": "0fb267a4",
      "metadata": {
        "colab": {
          "base_uri": "https://localhost:8080/"
        },
        "id": "0fb267a4",
        "outputId": "869129be-db59-47f8-9617-730ea9c5dbf7"
      },
      "outputs": [
        {
          "name": "stdout",
          "output_type": "stream",
          "text": [
            "(1202679, 3)\n",
            "(8468615, 12)\n",
            "(1202679, 14)\n"
          ]
        }
      ],
      "source": [
        "print(ratings.shape)\n",
        "print(df_genre.shape)\n",
        "print(genre_rating.shape)"
      ]
    },
    {
      "cell_type": "code",
      "execution_count": 51,
      "id": "4f97400a",
      "metadata": {
        "colab": {
          "base_uri": "https://localhost:8080/",
          "height": 942
        },
        "id": "4f97400a",
        "outputId": "70ccec9d-0fb6-492c-ccc8-2d2926b386a9"
      },
      "outputs": [
        {
          "data": {
            "text/html": [
              "<div>\n",
              "<style scoped>\n",
              "    .dataframe tbody tr th:only-of-type {\n",
              "        vertical-align: middle;\n",
              "    }\n",
              "\n",
              "    .dataframe tbody tr th {\n",
              "        vertical-align: top;\n",
              "    }\n",
              "\n",
              "    .dataframe thead th {\n",
              "        text-align: right;\n",
              "    }\n",
              "</style>\n",
              "<table border=\"1\" class=\"dataframe\">\n",
              "  <thead>\n",
              "    <tr style=\"text-align: right;\">\n",
              "      <th></th>\n",
              "      <th>numVotes</th>\n",
              "    </tr>\n",
              "    <tr>\n",
              "      <th>genre 1</th>\n",
              "      <th></th>\n",
              "    </tr>\n",
              "  </thead>\n",
              "  <tbody>\n",
              "    <tr>\n",
              "      <th>Action</th>\n",
              "      <td>368051099</td>\n",
              "    </tr>\n",
              "    <tr>\n",
              "      <th>Comedy</th>\n",
              "      <td>230428860</td>\n",
              "    </tr>\n",
              "    <tr>\n",
              "      <th>Drama</th>\n",
              "      <td>203519291</td>\n",
              "    </tr>\n",
              "    <tr>\n",
              "      <th>Adventure</th>\n",
              "      <td>109568095</td>\n",
              "    </tr>\n",
              "    <tr>\n",
              "      <th>Crime</th>\n",
              "      <td>108928686</td>\n",
              "    </tr>\n",
              "    <tr>\n",
              "      <th>Biography</th>\n",
              "      <td>56204785</td>\n",
              "    </tr>\n",
              "    <tr>\n",
              "      <th>Horror</th>\n",
              "      <td>38859128</td>\n",
              "    </tr>\n",
              "    <tr>\n",
              "      <th>Animation</th>\n",
              "      <td>19634563</td>\n",
              "    </tr>\n",
              "    <tr>\n",
              "      <th>Documentary</th>\n",
              "      <td>13798290</td>\n",
              "    </tr>\n",
              "    <tr>\n",
              "      <th>Mystery</th>\n",
              "      <td>7342721</td>\n",
              "    </tr>\n",
              "    <tr>\n",
              "      <th>Fantasy</th>\n",
              "      <td>4598501</td>\n",
              "    </tr>\n",
              "    <tr>\n",
              "      <th>Western</th>\n",
              "      <td>2589541</td>\n",
              "    </tr>\n",
              "    <tr>\n",
              "      <th>Thriller</th>\n",
              "      <td>2072957</td>\n",
              "    </tr>\n",
              "    <tr>\n",
              "      <th>Family</th>\n",
              "      <td>1650598</td>\n",
              "    </tr>\n",
              "    <tr>\n",
              "      <th>Sci-Fi</th>\n",
              "      <td>1634994</td>\n",
              "    </tr>\n",
              "    <tr>\n",
              "      <th>Reality-TV</th>\n",
              "      <td>1255942</td>\n",
              "    </tr>\n",
              "    <tr>\n",
              "      <th>Romance</th>\n",
              "      <td>1232935</td>\n",
              "    </tr>\n",
              "    <tr>\n",
              "      <th>Music</th>\n",
              "      <td>1208174</td>\n",
              "    </tr>\n",
              "    <tr>\n",
              "      <th>Short</th>\n",
              "      <td>931010</td>\n",
              "    </tr>\n",
              "    <tr>\n",
              "      <th>Game-Show</th>\n",
              "      <td>738295</td>\n",
              "    </tr>\n",
              "    <tr>\n",
              "      <th>Musical</th>\n",
              "      <td>548686</td>\n",
              "    </tr>\n",
              "    <tr>\n",
              "      <th>Film-Noir</th>\n",
              "      <td>392984</td>\n",
              "    </tr>\n",
              "    <tr>\n",
              "      <th>Talk-Show</th>\n",
              "      <td>297653</td>\n",
              "    </tr>\n",
              "    <tr>\n",
              "      <th>Sport</th>\n",
              "      <td>286948</td>\n",
              "    </tr>\n",
              "    <tr>\n",
              "      <th>News</th>\n",
              "      <td>238446</td>\n",
              "    </tr>\n",
              "    <tr>\n",
              "      <th>History</th>\n",
              "      <td>165433</td>\n",
              "    </tr>\n",
              "    <tr>\n",
              "      <th>War</th>\n",
              "      <td>52611</td>\n",
              "    </tr>\n",
              "    <tr>\n",
              "      <th>Adult</th>\n",
              "      <td>7315</td>\n",
              "    </tr>\n",
              "  </tbody>\n",
              "</table>\n",
              "</div>"
            ],
            "text/plain": [
              "              numVotes\n",
              "genre 1               \n",
              "Action       368051099\n",
              "Comedy       230428860\n",
              "Drama        203519291\n",
              "Adventure    109568095\n",
              "Crime        108928686\n",
              "Biography     56204785\n",
              "Horror        38859128\n",
              "Animation     19634563\n",
              "Documentary   13798290\n",
              "Mystery        7342721\n",
              "Fantasy        4598501\n",
              "Western        2589541\n",
              "Thriller       2072957\n",
              "Family         1650598\n",
              "Sci-Fi         1634994\n",
              "Reality-TV     1255942\n",
              "Romance        1232935\n",
              "Music          1208174\n",
              "Short           931010\n",
              "Game-Show       738295\n",
              "Musical         548686\n",
              "Film-Noir       392984\n",
              "Talk-Show       297653\n",
              "Sport           286948\n",
              "News            238446\n",
              "History         165433\n",
              "War              52611\n",
              "Adult             7315"
            ]
          },
          "execution_count": 51,
          "metadata": {},
          "output_type": "execute_result"
        }
      ],
      "source": [
        "# genre les plus notés sur tout le DS\n",
        "pivot_vote_genre = genre_rating.pivot_table(index='genre 1', values='numVotes',aggfunc='sum')\n",
        "pivot_vote_genre.sort_values(by='numVotes', ascending = False)\n",
        "\n",
        "# les genres les plus notés sont action, comedy, drama, crime et Adventure"
      ]
    },
    {
      "cell_type": "code",
      "execution_count": 53,
      "id": "8OxCv8oL1c-F",
      "metadata": {
        "colab": {
          "base_uri": "https://localhost:8080/"
        },
        "id": "8OxCv8oL1c-F",
        "outputId": "7a013c3f-ddb2-4b22-f86b-adf6c4ee4138"
      },
      "outputs": [
        {
          "name": "stdout",
          "output_type": "stream",
          "text": [
            "Nombre de vote minimal : 7315\n",
            "Nombre de vote maximal : 368051099\n",
            "Nombre de vote moyen : 42008519.321428575\n",
            "Nombre de vote median : 1642796.0\n"
          ]
        }
      ],
      "source": [
        "print(f\"Nombre de vote minimal : {pivot_vote_genre['numVotes'].min()}\")\n",
        "print(f\"Nombre de vote maximal : {pivot_vote_genre['numVotes'].max()}\")\n",
        "print(f\"Nombre de vote moyen : {pivot_vote_genre['numVotes'].mean()}\")\n",
        "print(f\"Nombre de vote median : {pivot_vote_genre['numVotes'].median()}\")"
      ]
    },
    {
      "cell_type": "code",
      "execution_count": 54,
      "id": "VgafL9G31c-F",
      "metadata": {
        "colab": {
          "base_uri": "https://localhost:8080/"
        },
        "id": "VgafL9G31c-F",
        "outputId": "31f391f6-4056-4983-a3cc-33dd63da2bc9"
      },
      "outputs": [
        {
          "name": "stdout",
          "output_type": "stream",
          "text": [
            "rating minimal : 1.0\n",
            "rating maximal : 10.0\n",
            "rating moyen : 6.9230803065484725\n",
            "rating median : 7.1\n"
          ]
        }
      ],
      "source": [
        "print(f\"rating minimal : {genre_rating['averageRating'].min()}\")\n",
        "print(f\"rating maximal : {genre_rating['averageRating'].max()}\")\n",
        "print(f\"rating moyen : {genre_rating['averageRating'].mean()}\")\n",
        "print(f\"rating median : {genre_rating['averageRating'].median()}\")"
      ]
    },
    {
      "cell_type": "code",
      "execution_count": 55,
      "id": "eNuuGwm_1c-F",
      "metadata": {
        "colab": {
          "base_uri": "https://localhost:8080/",
          "height": 942
        },
        "id": "eNuuGwm_1c-F",
        "outputId": "665da2cc-728a-49ad-e0c4-533f2df12f76"
      },
      "outputs": [
        {
          "data": {
            "text/html": [
              "<div>\n",
              "<style scoped>\n",
              "    .dataframe tbody tr th:only-of-type {\n",
              "        vertical-align: middle;\n",
              "    }\n",
              "\n",
              "    .dataframe tbody tr th {\n",
              "        vertical-align: top;\n",
              "    }\n",
              "\n",
              "    .dataframe thead th {\n",
              "        text-align: right;\n",
              "    }\n",
              "</style>\n",
              "<table border=\"1\" class=\"dataframe\">\n",
              "  <thead>\n",
              "    <tr style=\"text-align: right;\">\n",
              "      <th></th>\n",
              "      <th>averageRating</th>\n",
              "    </tr>\n",
              "    <tr>\n",
              "      <th>genre 1</th>\n",
              "      <th></th>\n",
              "    </tr>\n",
              "  </thead>\n",
              "  <tbody>\n",
              "    <tr>\n",
              "      <th>History</th>\n",
              "      <td>7.263513</td>\n",
              "    </tr>\n",
              "    <tr>\n",
              "      <th>Documentary</th>\n",
              "      <td>7.218888</td>\n",
              "    </tr>\n",
              "    <tr>\n",
              "      <th>Crime</th>\n",
              "      <td>7.181850</td>\n",
              "    </tr>\n",
              "    <tr>\n",
              "      <th>Biography</th>\n",
              "      <td>7.163051</td>\n",
              "    </tr>\n",
              "    <tr>\n",
              "      <th>Western</th>\n",
              "      <td>7.148728</td>\n",
              "    </tr>\n",
              "    <tr>\n",
              "      <th>Sport</th>\n",
              "      <td>7.084651</td>\n",
              "    </tr>\n",
              "    <tr>\n",
              "      <th>Action</th>\n",
              "      <td>7.024293</td>\n",
              "    </tr>\n",
              "    <tr>\n",
              "      <th>Adventure</th>\n",
              "      <td>6.989044</td>\n",
              "    </tr>\n",
              "    <tr>\n",
              "      <th>Comedy</th>\n",
              "      <td>6.958867</td>\n",
              "    </tr>\n",
              "    <tr>\n",
              "      <th>Animation</th>\n",
              "      <td>6.919787</td>\n",
              "    </tr>\n",
              "    <tr>\n",
              "      <th>Drama</th>\n",
              "      <td>6.898527</td>\n",
              "    </tr>\n",
              "    <tr>\n",
              "      <th>Music</th>\n",
              "      <td>6.884037</td>\n",
              "    </tr>\n",
              "    <tr>\n",
              "      <th>Family</th>\n",
              "      <td>6.839465</td>\n",
              "    </tr>\n",
              "    <tr>\n",
              "      <th>Reality-TV</th>\n",
              "      <td>6.837443</td>\n",
              "    </tr>\n",
              "    <tr>\n",
              "      <th>Musical</th>\n",
              "      <td>6.819291</td>\n",
              "    </tr>\n",
              "    <tr>\n",
              "      <th>Talk-Show</th>\n",
              "      <td>6.736445</td>\n",
              "    </tr>\n",
              "    <tr>\n",
              "      <th>Fantasy</th>\n",
              "      <td>6.725651</td>\n",
              "    </tr>\n",
              "    <tr>\n",
              "      <th>Game-Show</th>\n",
              "      <td>6.705245</td>\n",
              "    </tr>\n",
              "    <tr>\n",
              "      <th>Short</th>\n",
              "      <td>6.682913</td>\n",
              "    </tr>\n",
              "    <tr>\n",
              "      <th>Mystery</th>\n",
              "      <td>6.667247</td>\n",
              "    </tr>\n",
              "    <tr>\n",
              "      <th>Film-Noir</th>\n",
              "      <td>6.613889</td>\n",
              "    </tr>\n",
              "    <tr>\n",
              "      <th>Romance</th>\n",
              "      <td>6.500753</td>\n",
              "    </tr>\n",
              "    <tr>\n",
              "      <th>Sci-Fi</th>\n",
              "      <td>6.460906</td>\n",
              "    </tr>\n",
              "    <tr>\n",
              "      <th>War</th>\n",
              "      <td>6.342416</td>\n",
              "    </tr>\n",
              "    <tr>\n",
              "      <th>Adult</th>\n",
              "      <td>6.047561</td>\n",
              "    </tr>\n",
              "    <tr>\n",
              "      <th>Thriller</th>\n",
              "      <td>5.948305</td>\n",
              "    </tr>\n",
              "    <tr>\n",
              "      <th>News</th>\n",
              "      <td>5.887559</td>\n",
              "    </tr>\n",
              "    <tr>\n",
              "      <th>Horror</th>\n",
              "      <td>5.577656</td>\n",
              "    </tr>\n",
              "  </tbody>\n",
              "</table>\n",
              "</div>"
            ],
            "text/plain": [
              "             averageRating\n",
              "genre 1                   \n",
              "History           7.263513\n",
              "Documentary       7.218888\n",
              "Crime             7.181850\n",
              "Biography         7.163051\n",
              "Western           7.148728\n",
              "Sport             7.084651\n",
              "Action            7.024293\n",
              "Adventure         6.989044\n",
              "Comedy            6.958867\n",
              "Animation         6.919787\n",
              "Drama             6.898527\n",
              "Music             6.884037\n",
              "Family            6.839465\n",
              "Reality-TV        6.837443\n",
              "Musical           6.819291\n",
              "Talk-Show         6.736445\n",
              "Fantasy           6.725651\n",
              "Game-Show         6.705245\n",
              "Short             6.682913\n",
              "Mystery           6.667247\n",
              "Film-Noir         6.613889\n",
              "Romance           6.500753\n",
              "Sci-Fi            6.460906\n",
              "War               6.342416\n",
              "Adult             6.047561\n",
              "Thriller          5.948305\n",
              "News              5.887559\n",
              "Horror            5.577656"
            ]
          },
          "execution_count": 55,
          "metadata": {},
          "output_type": "execute_result"
        }
      ],
      "source": [
        "# genre les mieux notés en moyenne\n",
        "pivot_rating_genre = genre_rating.pivot_table(index='genre 1', values ='averageRating')\n",
        "pivot_rating_genre.sort_values(by='averageRating', ascending = False)\n",
        "\n",
        "# les genres les mieux notés : History, Western, Documentary, Crime "
      ]
    },
    {
      "cell_type": "code",
      "execution_count": 57,
      "id": "08qYRZ1u1c-F",
      "metadata": {
        "colab": {
          "base_uri": "https://localhost:8080/"
        },
        "id": "08qYRZ1u1c-F",
        "outputId": "c9e6f037-8282-47c9-a2d8-126efe90a928"
      },
      "outputs": [
        {
          "data": {
            "text/plain": [
              "genre 1    genre 2  \n",
              "Action     Adventure    62099\n",
              "Comedy     Drama        55599\n",
              "Crime      Drama        52019\n",
              "Animation  Comedy       34960\n",
              "Drama      Romance      27429\n",
              "                        ...  \n",
              "Adult      Biography        1\n",
              "Mystery    Sport            1\n",
              "Action     Film-Noir        1\n",
              "Romance    Talk-Show        1\n",
              "Musical    Sport            1\n",
              "Name: genre 2, Length: 333, dtype: int64"
            ]
          },
          "execution_count": 57,
          "metadata": {},
          "output_type": "execute_result"
        }
      ],
      "source": [
        "# 2e genre le plus représenté après genre 1\n",
        "genre_rating.groupby('genre 1')['genre 2'].value_counts().sort_values(ascending = False)"
      ]
    },
    {
      "cell_type": "markdown",
      "id": "pJZYJyN-1c-F",
      "metadata": {
        "id": "pJZYJyN-1c-F"
      },
      "source": [
        "## 5.3 Genre des Films les plus notés et les mieux notés"
      ]
    },
    {
      "cell_type": "code",
      "execution_count": 58,
      "id": "dKpq9_XH1c-F",
      "metadata": {
        "id": "dKpq9_XH1c-F"
      },
      "outputs": [],
      "source": [
        "movies_rating = genre_rating[genre_rating['titleType'] == 'movie']"
      ]
    },
    {
      "cell_type": "code",
      "execution_count": 59,
      "id": "M3PAYLxp1c-F",
      "metadata": {
        "colab": {
          "base_uri": "https://localhost:8080/",
          "height": 355
        },
        "id": "M3PAYLxp1c-F",
        "outputId": "7cf8ed82-e3b4-4be3-ad00-17c6d64b5a79"
      },
      "outputs": [
        {
          "data": {
            "image/png": "[encoded data removed]",
            "text/plain": [
              "<Figure size 720x360 with 1 Axes>"
            ]
          },
          "metadata": {},
          "output_type": "display_data"
        }
      ],
      "source": [
        "# Genre des films notés les plus représentés\n",
        "\n",
        "fig= plt.figure(figsize=(10,5))\n",
        "sns.set_theme(style=\"darkgrid\")\n",
        "sns.set_color_codes(\"pastel\")\n",
        "sns.countplot(y='genre 1', data=movies_rating, color='b')\n",
        "plt.title('Movies by genre')\n",
        "plt.xlabel('Nb Movies')\n",
        "plt.ylabel('Genre')\n",
        "plt.show()"
      ]
    },
    {
      "cell_type": "code",
      "execution_count": 60,
      "id": "eLNnUr3j1c-F",
      "metadata": {
        "colab": {
          "base_uri": "https://localhost:8080/",
          "height": 942
        },
        "id": "eLNnUr3j1c-F",
        "outputId": "50e45d4c-bbdf-4571-8bda-a95ece414c36"
      },
      "outputs": [
        {
          "data": {
            "text/html": [
              "<div>\n",
              "<style scoped>\n",
              "    .dataframe tbody tr th:only-of-type {\n",
              "        vertical-align: middle;\n",
              "    }\n",
              "\n",
              "    .dataframe tbody tr th {\n",
              "        vertical-align: top;\n",
              "    }\n",
              "\n",
              "    .dataframe thead th {\n",
              "        text-align: right;\n",
              "    }\n",
              "</style>\n",
              "<table border=\"1\" class=\"dataframe\">\n",
              "  <thead>\n",
              "    <tr style=\"text-align: right;\">\n",
              "      <th></th>\n",
              "      <th>numVotes</th>\n",
              "    </tr>\n",
              "    <tr>\n",
              "      <th>genre 1</th>\n",
              "      <th></th>\n",
              "    </tr>\n",
              "  </thead>\n",
              "  <tbody>\n",
              "    <tr>\n",
              "      <th>Action</th>\n",
              "      <td>303429920</td>\n",
              "    </tr>\n",
              "    <tr>\n",
              "      <th>Comedy</th>\n",
              "      <td>174672992</td>\n",
              "    </tr>\n",
              "    <tr>\n",
              "      <th>Drama</th>\n",
              "      <td>160737041</td>\n",
              "    </tr>\n",
              "    <tr>\n",
              "      <th>Adventure</th>\n",
              "      <td>94682208</td>\n",
              "    </tr>\n",
              "    <tr>\n",
              "      <th>Crime</th>\n",
              "      <td>73712419</td>\n",
              "    </tr>\n",
              "    <tr>\n",
              "      <th>Biography</th>\n",
              "      <td>51686896</td>\n",
              "    </tr>\n",
              "    <tr>\n",
              "      <th>Horror</th>\n",
              "      <td>37249080</td>\n",
              "    </tr>\n",
              "    <tr>\n",
              "      <th>Documentary</th>\n",
              "      <td>7854083</td>\n",
              "    </tr>\n",
              "    <tr>\n",
              "      <th>Mystery</th>\n",
              "      <td>7104952</td>\n",
              "    </tr>\n",
              "    <tr>\n",
              "      <th>Animation</th>\n",
              "      <td>6394276</td>\n",
              "    </tr>\n",
              "    <tr>\n",
              "      <th>Fantasy</th>\n",
              "      <td>4004770</td>\n",
              "    </tr>\n",
              "    <tr>\n",
              "      <th>Western</th>\n",
              "      <td>2188032</td>\n",
              "    </tr>\n",
              "    <tr>\n",
              "      <th>Thriller</th>\n",
              "      <td>1669206</td>\n",
              "    </tr>\n",
              "    <tr>\n",
              "      <th>Sci-Fi</th>\n",
              "      <td>1309650</td>\n",
              "    </tr>\n",
              "    <tr>\n",
              "      <th>Family</th>\n",
              "      <td>959387</td>\n",
              "    </tr>\n",
              "    <tr>\n",
              "      <th>Romance</th>\n",
              "      <td>897304</td>\n",
              "    </tr>\n",
              "    <tr>\n",
              "      <th>Musical</th>\n",
              "      <td>439883</td>\n",
              "    </tr>\n",
              "    <tr>\n",
              "      <th>Film-Noir</th>\n",
              "      <td>392984</td>\n",
              "    </tr>\n",
              "    <tr>\n",
              "      <th>Music</th>\n",
              "      <td>90131</td>\n",
              "    </tr>\n",
              "    <tr>\n",
              "      <th>History</th>\n",
              "      <td>75267</td>\n",
              "    </tr>\n",
              "    <tr>\n",
              "      <th>War</th>\n",
              "      <td>38992</td>\n",
              "    </tr>\n",
              "    <tr>\n",
              "      <th>Sport</th>\n",
              "      <td>14508</td>\n",
              "    </tr>\n",
              "    <tr>\n",
              "      <th>Adult</th>\n",
              "      <td>4330</td>\n",
              "    </tr>\n",
              "    <tr>\n",
              "      <th>Reality-TV</th>\n",
              "      <td>405</td>\n",
              "    </tr>\n",
              "    <tr>\n",
              "      <th>Talk-Show</th>\n",
              "      <td>123</td>\n",
              "    </tr>\n",
              "    <tr>\n",
              "      <th>News</th>\n",
              "      <td>95</td>\n",
              "    </tr>\n",
              "    <tr>\n",
              "      <th>Game-Show</th>\n",
              "      <td>31</td>\n",
              "    </tr>\n",
              "    <tr>\n",
              "      <th>Short</th>\n",
              "      <td>26</td>\n",
              "    </tr>\n",
              "  </tbody>\n",
              "</table>\n",
              "</div>"
            ],
            "text/plain": [
              "              numVotes\n",
              "genre 1               \n",
              "Action       303429920\n",
              "Comedy       174672992\n",
              "Drama        160737041\n",
              "Adventure     94682208\n",
              "Crime         73712419\n",
              "Biography     51686896\n",
              "Horror        37249080\n",
              "Documentary    7854083\n",
              "Mystery        7104952\n",
              "Animation      6394276\n",
              "Fantasy        4004770\n",
              "Western        2188032\n",
              "Thriller       1669206\n",
              "Sci-Fi         1309650\n",
              "Family          959387\n",
              "Romance         897304\n",
              "Musical         439883\n",
              "Film-Noir       392984\n",
              "Music            90131\n",
              "History          75267\n",
              "War              38992\n",
              "Sport            14508\n",
              "Adult             4330\n",
              "Reality-TV         405\n",
              "Talk-Show          123\n",
              "News                95\n",
              "Game-Show           31\n",
              "Short               26"
            ]
          },
          "execution_count": 60,
          "metadata": {},
          "output_type": "execute_result"
        }
      ],
      "source": [
        "movies_vote_genre = movies_rating.pivot_table(index='genre 1', values='numVotes',aggfunc='sum')\n",
        "movies_vote_genre.sort_values(by='numVotes', ascending = False)"
      ]
    },
    {
      "cell_type": "code",
      "execution_count": 61,
      "id": "wadUki5V1c-F",
      "metadata": {
        "colab": {
          "base_uri": "https://localhost:8080/",
          "height": 388
        },
        "id": "wadUki5V1c-F",
        "outputId": "21f1be25-9cf9-4d01-e61a-72df360df805"
      },
      "outputs": [
        {
          "data": {
            "text/html": [
              "<div>\n",
              "<style scoped>\n",
              "    .dataframe tbody tr th:only-of-type {\n",
              "        vertical-align: middle;\n",
              "    }\n",
              "\n",
              "    .dataframe tbody tr th {\n",
              "        vertical-align: top;\n",
              "    }\n",
              "\n",
              "    .dataframe thead th {\n",
              "        text-align: right;\n",
              "    }\n",
              "</style>\n",
              "<table border=\"1\" class=\"dataframe\">\n",
              "  <thead>\n",
              "    <tr style=\"text-align: right;\">\n",
              "      <th></th>\n",
              "      <th>numVotes</th>\n",
              "    </tr>\n",
              "    <tr>\n",
              "      <th>genre 1</th>\n",
              "      <th></th>\n",
              "    </tr>\n",
              "  </thead>\n",
              "  <tbody>\n",
              "    <tr>\n",
              "      <th>Action</th>\n",
              "      <td>303429920</td>\n",
              "    </tr>\n",
              "    <tr>\n",
              "      <th>Comedy</th>\n",
              "      <td>174672992</td>\n",
              "    </tr>\n",
              "    <tr>\n",
              "      <th>Drama</th>\n",
              "      <td>160737041</td>\n",
              "    </tr>\n",
              "    <tr>\n",
              "      <th>Adventure</th>\n",
              "      <td>94682208</td>\n",
              "    </tr>\n",
              "    <tr>\n",
              "      <th>Crime</th>\n",
              "      <td>73712419</td>\n",
              "    </tr>\n",
              "    <tr>\n",
              "      <th>Biography</th>\n",
              "      <td>51686896</td>\n",
              "    </tr>\n",
              "    <tr>\n",
              "      <th>Horror</th>\n",
              "      <td>37249080</td>\n",
              "    </tr>\n",
              "    <tr>\n",
              "      <th>Documentary</th>\n",
              "      <td>7854083</td>\n",
              "    </tr>\n",
              "    <tr>\n",
              "      <th>Mystery</th>\n",
              "      <td>7104952</td>\n",
              "    </tr>\n",
              "    <tr>\n",
              "      <th>Animation</th>\n",
              "      <td>6394276</td>\n",
              "    </tr>\n",
              "  </tbody>\n",
              "</table>\n",
              "</div>"
            ],
            "text/plain": [
              "              numVotes\n",
              "genre 1               \n",
              "Action       303429920\n",
              "Comedy       174672992\n",
              "Drama        160737041\n",
              "Adventure     94682208\n",
              "Crime         73712419\n",
              "Biography     51686896\n",
              "Horror        37249080\n",
              "Documentary    7854083\n",
              "Mystery        7104952\n",
              "Animation      6394276"
            ]
          },
          "execution_count": 61,
          "metadata": {},
          "output_type": "execute_result"
        }
      ],
      "source": [
        "movies10_vote_genre = movies_vote_genre.sort_values(by='numVotes', ascending = False)[:10]\n",
        "movies10_vote_genre\n"
      ]
    },
    {
      "cell_type": "code",
      "execution_count": 62,
      "id": "F2XgOoWM1c-G",
      "metadata": {
        "colab": {
          "base_uri": "https://localhost:8080/",
          "height": 355
        },
        "id": "F2XgOoWM1c-G",
        "outputId": "b757b22b-f32c-444e-e0fc-b7a70f2a2d33"
      },
      "outputs": [
        {
          "data": {
            "image/png": "[encoded data removed]",
            "text/plain": [
              "<Figure size 720x360 with 1 Axes>"
            ]
          },
          "metadata": {},
          "output_type": "display_data"
        }
      ],
      "source": [
        "fig = plt.figure(figsize=(10,5))\n",
        "sns.barplot(x =movies10_vote_genre.index, \n",
        "            y=\"numVotes\", \n",
        "            data= movies10_vote_genre,\n",
        "            color=\"b\")\n",
        "plt.title(\"Top 10 movies' genres by number of votes\")\n",
        "plt.xlabel('Nb of votes')\n",
        "plt.ylabel('Genre')\n",
        "plt.show()\n"
      ]
    },
    {
      "cell_type": "code",
      "execution_count": 63,
      "id": "t5iaRjY61c-G",
      "metadata": {
        "colab": {
          "base_uri": "https://localhost:8080/",
          "height": 942
        },
        "id": "t5iaRjY61c-G",
        "outputId": "3ab940c7-69d1-4b52-8101-16890041165f"
      },
      "outputs": [
        {
          "data": {
            "text/html": [
              "<div>\n",
              "<style scoped>\n",
              "    .dataframe tbody tr th:only-of-type {\n",
              "        vertical-align: middle;\n",
              "    }\n",
              "\n",
              "    .dataframe tbody tr th {\n",
              "        vertical-align: top;\n",
              "    }\n",
              "\n",
              "    .dataframe thead th {\n",
              "        text-align: right;\n",
              "    }\n",
              "</style>\n",
              "<table border=\"1\" class=\"dataframe\">\n",
              "  <thead>\n",
              "    <tr style=\"text-align: right;\">\n",
              "      <th></th>\n",
              "      <th>averageRating</th>\n",
              "    </tr>\n",
              "    <tr>\n",
              "      <th>genre 1</th>\n",
              "      <th></th>\n",
              "    </tr>\n",
              "  </thead>\n",
              "  <tbody>\n",
              "    <tr>\n",
              "      <th>Documentary</th>\n",
              "      <td>7.203044</td>\n",
              "    </tr>\n",
              "    <tr>\n",
              "      <th>Music</th>\n",
              "      <td>7.092751</td>\n",
              "    </tr>\n",
              "    <tr>\n",
              "      <th>Biography</th>\n",
              "      <td>6.966088</td>\n",
              "    </tr>\n",
              "    <tr>\n",
              "      <th>Game-Show</th>\n",
              "      <td>6.800000</td>\n",
              "    </tr>\n",
              "    <tr>\n",
              "      <th>Sport</th>\n",
              "      <td>6.685366</td>\n",
              "    </tr>\n",
              "    <tr>\n",
              "      <th>Talk-Show</th>\n",
              "      <td>6.671429</td>\n",
              "    </tr>\n",
              "    <tr>\n",
              "      <th>Film-Noir</th>\n",
              "      <td>6.613889</td>\n",
              "    </tr>\n",
              "    <tr>\n",
              "      <th>History</th>\n",
              "      <td>6.471531</td>\n",
              "    </tr>\n",
              "    <tr>\n",
              "      <th>Drama</th>\n",
              "      <td>6.259300</td>\n",
              "    </tr>\n",
              "    <tr>\n",
              "      <th>Musical</th>\n",
              "      <td>6.177256</td>\n",
              "    </tr>\n",
              "    <tr>\n",
              "      <th>Animation</th>\n",
              "      <td>6.128571</td>\n",
              "    </tr>\n",
              "    <tr>\n",
              "      <th>Family</th>\n",
              "      <td>6.109634</td>\n",
              "    </tr>\n",
              "    <tr>\n",
              "      <th>War</th>\n",
              "      <td>6.095168</td>\n",
              "    </tr>\n",
              "    <tr>\n",
              "      <th>Crime</th>\n",
              "      <td>6.065235</td>\n",
              "    </tr>\n",
              "    <tr>\n",
              "      <th>Adventure</th>\n",
              "      <td>5.980239</td>\n",
              "    </tr>\n",
              "    <tr>\n",
              "      <th>Romance</th>\n",
              "      <td>5.964364</td>\n",
              "    </tr>\n",
              "    <tr>\n",
              "      <th>Western</th>\n",
              "      <td>5.923491</td>\n",
              "    </tr>\n",
              "    <tr>\n",
              "      <th>Comedy</th>\n",
              "      <td>5.915831</td>\n",
              "    </tr>\n",
              "    <tr>\n",
              "      <th>Mystery</th>\n",
              "      <td>5.885415</td>\n",
              "    </tr>\n",
              "    <tr>\n",
              "      <th>Fantasy</th>\n",
              "      <td>5.762491</td>\n",
              "    </tr>\n",
              "    <tr>\n",
              "      <th>Action</th>\n",
              "      <td>5.695263</td>\n",
              "    </tr>\n",
              "    <tr>\n",
              "      <th>News</th>\n",
              "      <td>5.571429</td>\n",
              "    </tr>\n",
              "    <tr>\n",
              "      <th>Thriller</th>\n",
              "      <td>5.516858</td>\n",
              "    </tr>\n",
              "    <tr>\n",
              "      <th>Reality-TV</th>\n",
              "      <td>5.400000</td>\n",
              "    </tr>\n",
              "    <tr>\n",
              "      <th>Adult</th>\n",
              "      <td>5.372000</td>\n",
              "    </tr>\n",
              "    <tr>\n",
              "      <th>Sci-Fi</th>\n",
              "      <td>5.200783</td>\n",
              "    </tr>\n",
              "    <tr>\n",
              "      <th>Short</th>\n",
              "      <td>4.900000</td>\n",
              "    </tr>\n",
              "    <tr>\n",
              "      <th>Horror</th>\n",
              "      <td>4.828308</td>\n",
              "    </tr>\n",
              "  </tbody>\n",
              "</table>\n",
              "</div>"
            ],
            "text/plain": [
              "             averageRating\n",
              "genre 1                   \n",
              "Documentary       7.203044\n",
              "Music             7.092751\n",
              "Biography         6.966088\n",
              "Game-Show         6.800000\n",
              "Sport             6.685366\n",
              "Talk-Show         6.671429\n",
              "Film-Noir         6.613889\n",
              "History           6.471531\n",
              "Drama             6.259300\n",
              "Musical           6.177256\n",
              "Animation         6.128571\n",
              "Family            6.109634\n",
              "War               6.095168\n",
              "Crime             6.065235\n",
              "Adventure         5.980239\n",
              "Romance           5.964364\n",
              "Western           5.923491\n",
              "Comedy            5.915831\n",
              "Mystery           5.885415\n",
              "Fantasy           5.762491\n",
              "Action            5.695263\n",
              "News              5.571429\n",
              "Thriller          5.516858\n",
              "Reality-TV        5.400000\n",
              "Adult             5.372000\n",
              "Sci-Fi            5.200783\n",
              "Short             4.900000\n",
              "Horror            4.828308"
            ]
          },
          "execution_count": 63,
          "metadata": {},
          "output_type": "execute_result"
        }
      ],
      "source": [
        "# movies by rating\n",
        "movies_rating_genre = movies_rating.pivot_table(index='genre 1', values='averageRating')\n",
        "movies_rating_genre.sort_values(by='averageRating', ascending = False)"
      ]
    },
    {
      "cell_type": "code",
      "execution_count": 64,
      "id": "DOXK4iGw1c-G",
      "metadata": {
        "colab": {
          "base_uri": "https://localhost:8080/",
          "height": 388
        },
        "id": "DOXK4iGw1c-G",
        "outputId": "f5c3cc80-521a-4ac4-be9b-e036a8b6c662"
      },
      "outputs": [
        {
          "data": {
            "text/html": [
              "<div>\n",
              "<style scoped>\n",
              "    .dataframe tbody tr th:only-of-type {\n",
              "        vertical-align: middle;\n",
              "    }\n",
              "\n",
              "    .dataframe tbody tr th {\n",
              "        vertical-align: top;\n",
              "    }\n",
              "\n",
              "    .dataframe thead th {\n",
              "        text-align: right;\n",
              "    }\n",
              "</style>\n",
              "<table border=\"1\" class=\"dataframe\">\n",
              "  <thead>\n",
              "    <tr style=\"text-align: right;\">\n",
              "      <th></th>\n",
              "      <th>numVotes</th>\n",
              "      <th>averageRating</th>\n",
              "    </tr>\n",
              "    <tr>\n",
              "      <th>genre 1</th>\n",
              "      <th></th>\n",
              "      <th></th>\n",
              "    </tr>\n",
              "  </thead>\n",
              "  <tbody>\n",
              "    <tr>\n",
              "      <th>Documentary</th>\n",
              "      <td>7854083</td>\n",
              "      <td>7.203044</td>\n",
              "    </tr>\n",
              "    <tr>\n",
              "      <th>Biography</th>\n",
              "      <td>51686896</td>\n",
              "      <td>6.966088</td>\n",
              "    </tr>\n",
              "    <tr>\n",
              "      <th>Drama</th>\n",
              "      <td>160737041</td>\n",
              "      <td>6.259300</td>\n",
              "    </tr>\n",
              "    <tr>\n",
              "      <th>Animation</th>\n",
              "      <td>6394276</td>\n",
              "      <td>6.128571</td>\n",
              "    </tr>\n",
              "    <tr>\n",
              "      <th>Crime</th>\n",
              "      <td>73712419</td>\n",
              "      <td>6.065235</td>\n",
              "    </tr>\n",
              "    <tr>\n",
              "      <th>Adventure</th>\n",
              "      <td>94682208</td>\n",
              "      <td>5.980239</td>\n",
              "    </tr>\n",
              "    <tr>\n",
              "      <th>Comedy</th>\n",
              "      <td>174672992</td>\n",
              "      <td>5.915831</td>\n",
              "    </tr>\n",
              "    <tr>\n",
              "      <th>Mystery</th>\n",
              "      <td>7104952</td>\n",
              "      <td>5.885415</td>\n",
              "    </tr>\n",
              "    <tr>\n",
              "      <th>Action</th>\n",
              "      <td>303429920</td>\n",
              "      <td>5.695263</td>\n",
              "    </tr>\n",
              "    <tr>\n",
              "      <th>Horror</th>\n",
              "      <td>37249080</td>\n",
              "      <td>4.828308</td>\n",
              "    </tr>\n",
              "  </tbody>\n",
              "</table>\n",
              "</div>"
            ],
            "text/plain": [
              "              numVotes  averageRating\n",
              "genre 1                              \n",
              "Documentary    7854083       7.203044\n",
              "Biography     51686896       6.966088\n",
              "Drama        160737041       6.259300\n",
              "Animation      6394276       6.128571\n",
              "Crime         73712419       6.065235\n",
              "Adventure     94682208       5.980239\n",
              "Comedy       174672992       5.915831\n",
              "Mystery        7104952       5.885415\n",
              "Action       303429920       5.695263\n",
              "Horror        37249080       4.828308"
            ]
          },
          "execution_count": 64,
          "metadata": {},
          "output_type": "execute_result"
        }
      ],
      "source": [
        "# pas très pertinent.\n",
        "# regardons le rating pour les genres les plus notés : movies10_vote_genre\n",
        "\n",
        "movies10_rating_genre = movies10_vote_genre.merge(movies_rating_genre, how='inner', on = 'genre 1')\n",
        "movies10_rating_genre.sort_values(by='averageRating', ascending=False)"
      ]
    },
    {
      "cell_type": "code",
      "execution_count": 66,
      "id": "3EsZfz8V4KsP",
      "metadata": {
        "id": "3EsZfz8V4KsP"
      },
      "outputs": [],
      "source": [
        "# TOP 20 des films ayant le plus de votes et triés par rating\n",
        "top_20_movies = movies_rating.sort_values(by='numVotes', ascending = False).head(20).sort_values(by='averageRating', ascending = False)"
      ]
    },
    {
      "cell_type": "code",
      "execution_count": 68,
      "id": "cT9Y2w_g5lf9",
      "metadata": {
        "colab": {
          "base_uri": "https://localhost:8080/"
        },
        "id": "cT9Y2w_g5lf9",
        "outputId": "e7e28aaf-56bc-4633-fb5f-1b05621d472b"
      },
      "outputs": [
        {
          "name": "stdout",
          "output_type": "stream",
          "text": [
            "genre complet: \n",
            " Action,Adventure,Drama     4\n",
            "Crime,Drama                2\n",
            "Drama                      2\n",
            "Action,Adventure,Sci-Fi    2\n",
            "Drama,Western              1\n",
            "Drama,Romance              1\n",
            "Action,Crime               1\n",
            "Crime,Drama,Mystery        1\n",
            "Crime,Drama,Horror         1\n",
            "Action,Sci-Fi              1\n",
            "Adventure,Drama,Sci-Fi     1\n",
            "Action,Crime,Drama         1\n",
            "Action,Adventure           1\n",
            "Adventure,Drama,War        1\n",
            "Name: genres, dtype: int64\n",
            "\n",
            " genre 1: \n",
            " Action       10\n",
            "Drama         4\n",
            "Crime         4\n",
            "Adventure     2\n",
            "Name: genre 1, dtype: int64\n",
            "\n",
            " genre 2: \n",
            " Adventure    7\n",
            "Drama        6\n",
            "Crime        2\n",
            "Sci-Fi       1\n",
            "Western      1\n",
            "Romance      1\n",
            "Name: genre 2, dtype: int64\n"
          ]
        }
      ],
      "source": [
        "# genre de ce top 20:\n",
        "print('genre complet: \\n', top_20_movies['genres'].value_counts())\n",
        "print('\\n genre 1: \\n', top_20_movies['genre 1'].value_counts())\n",
        "print('\\n genre 2: \\n', top_20_movies['genre 2'].value_counts())"
      ]
    },
    {
      "cell_type": "markdown",
      "id": "nYT5eFC-1c-G",
      "metadata": {
        "id": "nYT5eFC-1c-G"
      },
      "source": [
        "## 6. Exploration sur les années"
      ]
    },
    {
      "cell_type": "code",
      "execution_count": 70,
      "id": "wRIyzz_e1c-G",
      "metadata": {
        "id": "wRIyzz_e1c-G"
      },
      "outputs": [],
      "source": [
        "# faire un dataset copie de df_genre ou on supprime les années sans le startyear\n",
        "df_genre_dropna_year = df_genre[df_genre['startYear'].notna()].copy()\n",
        "genre_rating_dropna_year = genre_rating[genre_rating['startYear'].notna()].copy()\n",
        "movies_rating_dropna_year = movies_rating[movies_rating['startYear'].notna()].copy()\n"
      ]
    },
    {
      "cell_type": "code",
      "execution_count": 71,
      "id": "cgTFbRkN1c-G",
      "metadata": {
        "id": "cgTFbRkN1c-G"
      },
      "outputs": [],
      "source": [
        "# et transforme la colonne en int\n",
        "df_genre_dropna_year['startYear'] = df_genre_dropna_year['startYear'].astype(int)\n",
        "genre_rating_dropna_year['startYear'] = genre_rating_dropna_year['startYear'].astype(int)\n",
        "movies_rating_dropna_year['startYear'] = movies_rating_dropna_year['startYear'].astype(int)"
      ]
    },
    {
      "cell_type": "code",
      "execution_count": 72,
      "id": "l8f7C4JF1c-G",
      "metadata": {
        "colab": {
          "base_uri": "https://localhost:8080/"
        },
        "id": "l8f7C4JF1c-G",
        "outputId": "13bbaeed-8cc5-40dc-97eb-1d8388dbd70f"
      },
      "outputs": [
        {
          "name": "stdout",
          "output_type": "stream",
          "text": [
            "Sur tout le dataset, le titre le plus ancien date de : 1874\n",
            "Sur tout le dataset, le titre le plus récent date de : 2028\n",
            "Sur les titres notés, le titre le plus ancien date de : 1874\n",
            "Sur les titres notés, le titre le plus récent date de : 2021\n",
            "Sur les films notés, le titre le plus ancien date de : 1896\n",
            "Sur les films notés, le titre le plus récent date de : 2021\n"
          ]
        }
      ],
      "source": [
        "\n",
        "print(f\"Sur tout le dataset, le titre le plus ancien date de : {df_genre_dropna_year['startYear'].min()}\")\n",
        "print(f\"Sur tout le dataset, le titre le plus récent date de : {df_genre_dropna_year['startYear'].max()}\")\n",
        "print(f\"Sur les titres notés, le titre le plus ancien date de : {genre_rating_dropna_year['startYear'].min()}\")\n",
        "print(f\"Sur les titres notés, le titre le plus récent date de : {genre_rating_dropna_year['startYear'].max()}\")\n",
        "print(f\"Sur les films notés, le titre le plus ancien date de : {movies_rating_dropna_year['startYear'].min()}\")\n",
        "print(f\"Sur les films notés, le titre le plus récent date de : {movies_rating_dropna_year['startYear'].max()}\")"
      ]
    },
    {
      "cell_type": "code",
      "execution_count": 73,
      "id": "QpddhMJd1c-G",
      "metadata": {
        "id": "QpddhMJd1c-G"
      },
      "outputs": [],
      "source": [
        "# il y a des années supérieurs à 2021 dans le dataset complet. Lesquelles sont? \n",
        "# subset de ces films à venir\n",
        "sorties_a_venir = df_genre_dropna_year[df_genre_dropna_year['startYear'] > 2021]"
      ]
    },
    {
      "cell_type": "code",
      "execution_count": 74,
      "id": "6MfCABm11c-H",
      "metadata": {
        "id": "6MfCABm11c-H"
      },
      "outputs": [],
      "source": [
        "# rajout d'une colonne décennie (à faire tourner au début)\n",
        "# before 1900 \n",
        "def decennie(x):\n",
        "    if x < 1900:\n",
        "        return '<1900'\n",
        "    elif 1900 <= x < 1910:\n",
        "        return '1900 - 1910'\n",
        "    elif 1910 <= x < 1920:\n",
        "        return \"1910 - 1920\"\n",
        "    elif 1920 <= x < 1930:\n",
        "        return \"1920 - 1930\"\n",
        "    elif 1930 <= x < 1940:\n",
        "        return \"1930 - 1940\"\n",
        "    elif 1940 <= x < 1950:\n",
        "        return \"1940 - 1950\"\n",
        "    elif 1950 <= x < 1960:\n",
        "        return \"1950 - 1960\"\n",
        "    elif 1960 <= x < 1970:\n",
        "        return \"1960 - 1970\"\n",
        "    elif 1970 <= x < 1980:\n",
        "        return \"1970 - 1980\"\n",
        "    elif 1980<= x < 1990:\n",
        "        return \"1980 - 1990\"\n",
        "    elif 1990 <= x < 2000:\n",
        "        return \"1990 - 2000\"\n",
        "    elif 2000 <= x < 2010:\n",
        "        return \"2000 - 2010\"\n",
        "    elif 2010 <= x < 2020:\n",
        "        return \"2010 - 2020\"\n",
        "    elif 2020 <= x < 2030:\n",
        "        return \"2020 - 2030\"\n",
        "    "
      ]
    },
    {
      "cell_type": "code",
      "execution_count": 75,
      "id": "8egG0xdF1c-H",
      "metadata": {
        "id": "8egG0xdF1c-H"
      },
      "outputs": [],
      "source": [
        "# j'apply cette fonction sur mes 3 datasets\n",
        "df_genre_dropna_year['decade'] = df_genre_dropna_year['startYear'].apply(decennie)\n",
        "genre_rating_dropna_year['decade'] = genre_rating_dropna_year['startYear'].apply(decennie)\n",
        "movies_rating_dropna_year['decade'] = movies_rating_dropna_year['startYear'].apply(decennie)\n",
        "\n"
      ]
    },
    {
      "cell_type": "code",
      "execution_count": 76,
      "id": "NnFyY86I1c-H",
      "metadata": {
        "id": "NnFyY86I1c-H"
      },
      "outputs": [],
      "source": [
        "# pareil pour les séries\n",
        "series_rating = genre_rating[(genre_rating['titleType'] =='tvSeries') | (genre_rating['titleType'] =='tvMiniSeries')]\n",
        "series_rating_dropna_year = series_rating[series_rating['startYear'].notna()].copy()\n",
        "series_rating_dropna_year['startYear'] = series_rating_dropna_year['startYear'].astype(int)\n",
        "series_rating_dropna_year['decade'] = series_rating_dropna_year['startYear'].apply(decennie)\n"
      ]
    },
    {
      "cell_type": "code",
      "execution_count": 77,
      "id": "v1j05-4j1c-H",
      "metadata": {
        "colab": {
          "base_uri": "https://localhost:8080/",
          "height": 610
        },
        "id": "v1j05-4j1c-H",
        "outputId": "7d3f63e8-54ee-4d2d-c280-571c4e6e8f6f"
      },
      "outputs": [
        {
          "data": {
            "image/png": "[encoded data removed]",
            "text/plain": [
              "<Figure size 864x720 with 3 Axes>"
            ]
          },
          "metadata": {},
          "output_type": "display_data"
        }
      ],
      "source": [
        "fig, ax = plt.subplots(3,1, figsize=(12,10))\n",
        "ax1= plt.subplot(311)\n",
        "ax1 = sns.countplot(y='decade', data=genre_rating_dropna_year.sort_values(by='decade'), color='b')\n",
        "ax1.set_title('Number of titles by decade')\n",
        "ax1.set_xlabel('')\n",
        "ax1.set_ylabel('Decade')\n",
        "\n",
        "ax2 = plt.subplot(312)\n",
        "ax2 = sns.countplot(y='decade', data=movies_rating_dropna_year.sort_values(by='decade'), color='g')\n",
        "ax2.set_title('Number of Movies by decade')\n",
        "ax2.set_xlabel('')\n",
        "ax2.set_ylabel('Decade')\n",
        "\n",
        "ax3 = plt.subplot(313)\n",
        "ax1 = sns.countplot(y='decade', data=series_rating_dropna_year.sort_values(by='decade'), color='r')\n",
        "ax3.set_title('Number of series by decade')\n",
        "ax3.set_xlabel('')\n",
        "ax3.set_ylabel('Decade')\n",
        "plt.show()"
      ]
    },
    {
      "cell_type": "code",
      "execution_count": 78,
      "id": "uv6NZE181c-H",
      "metadata": {
        "id": "uv6NZE181c-H"
      },
      "outputs": [],
      "source": [
        "# durée des films par année\n",
        "movies_rating_dropna_year['runtimeMinutes'] = movies_rating_dropna_year['runtimeMinutes'].astype('float')"
      ]
    },
    {
      "cell_type": "code",
      "execution_count": 79,
      "id": "C3TTtc0U1c-H",
      "metadata": {
        "colab": {
          "base_uri": "https://localhost:8080/"
        },
        "id": "C3TTtc0U1c-H",
        "outputId": "a5676c9a-d40c-4448-e984-fd2de3513bb3"
      },
      "outputs": [
        {
          "name": "stdout",
          "output_type": "stream",
          "text": [
            "Durée minimale : 2.0\n",
            "Durée maximale : 51420.0\n",
            "Durée moyenne : 94.31962380281286\n"
          ]
        }
      ],
      "source": [
        "print(f\"Durée minimale : {movies_rating_dropna_year['runtimeMinutes'].min()}\")\n",
        "print(f\"Durée maximale : {movies_rating_dropna_year['runtimeMinutes'].max()}\")\n",
        "print(f\"Durée moyenne : {movies_rating_dropna_year['runtimeMinutes'].mean()}\")"
      ]
    },
    {
      "cell_type": "code",
      "execution_count": 80,
      "id": "-IxVMcgP1c-H",
      "metadata": {
        "colab": {
          "base_uri": "https://localhost:8080/"
        },
        "id": "-IxVMcgP1c-H",
        "outputId": "8186db7a-51ce-4469-d38b-fc6985e2ef11"
      },
      "outputs": [
        {
          "data": {
            "text/plain": [
              "446"
            ]
          },
          "execution_count": 80,
          "metadata": {},
          "output_type": "execute_result"
        }
      ],
      "source": [
        "# recherche des films ayant une durée inférieur à 60min : 13.5K\n",
        "(movies_rating_dropna_year['runtimeMinutes'] < 60).sum()\n",
        "# recherche des films supérieurs à 4h : 446\n",
        "(movies_rating_dropna_year['runtimeMinutes'] > 240).sum()"
      ]
    },
    {
      "cell_type": "code",
      "execution_count": 81,
      "id": "MXTSR1cf1c-H",
      "metadata": {
        "colab": {
          "base_uri": "https://localhost:8080/",
          "height": 301
        },
        "id": "MXTSR1cf1c-H",
        "outputId": "fe03c40a-2f12-498a-f15a-05bc34976830"
      },
      "outputs": [
        {
          "data": {
            "image/png": "[encoded data removed]",
            "text/plain": [
              "<Figure size 432x288 with 1 Axes>"
            ]
          },
          "metadata": {},
          "output_type": "display_data"
        }
      ],
      "source": [
        "plt.figure()\n",
        "sns.kdeplot(x='runtimeMinutes', data=movies_rating_dropna_year, shade=True)\n",
        "plt.xlabel('duration (min)')\n",
        "plt.title(\"Movies' duration\")\n",
        "plt.show()"
      ]
    },
    {
      "cell_type": "code",
      "execution_count": 82,
      "id": "2dCM_I021c-H",
      "metadata": {
        "colab": {
          "base_uri": "https://localhost:8080/"
        },
        "id": "2dCM_I021c-H",
        "outputId": "a3dcce6d-39a1-49e7-e3b1-5550ed0bc045"
      },
      "outputs": [
        {
          "data": {
            "text/plain": [
              "(229356, 15)"
            ]
          },
          "execution_count": 82,
          "metadata": {},
          "output_type": "execute_result"
        }
      ],
      "source": [
        "# filtre sudu dataset en enlevant ces données\n",
        "movies_rating_dropna_year = movies_rating_dropna_year[(movies_rating_dropna_year['runtimeMinutes'] >= 60) & (movies_rating_dropna_year['runtimeMinutes'] <240)]\n",
        "movies_rating_dropna_year.shape"
      ]
    },
    {
      "cell_type": "code",
      "execution_count": 83,
      "id": "PNkymOD19R43",
      "metadata": {
        "colab": {
          "base_uri": "https://localhost:8080/",
          "height": 301
        },
        "id": "PNkymOD19R43",
        "outputId": "8087f719-f678-49cd-e723-c1f4af24775a"
      },
      "outputs": [
        {
          "data": {
            "image/png": "[encoded data removed]",
            "text/plain": [
              "<Figure size 432x288 with 1 Axes>"
            ]
          },
          "metadata": {},
          "output_type": "display_data"
        }
      ],
      "source": [
        "plt.figure()\n",
        "sns.kdeplot(x='runtimeMinutes', data=movies_rating_dropna_year, shade=True)\n",
        "plt.xlabel('duration (min)')\n",
        "plt.title(\"Movies' duration\")\n",
        "plt.show()"
      ]
    },
    {
      "cell_type": "code",
      "execution_count": 84,
      "id": "TieSgdK91c-H",
      "metadata": {
        "colab": {
          "base_uri": "https://localhost:8080/",
          "height": 284
        },
        "id": "TieSgdK91c-H",
        "outputId": "52becd6e-0234-4957-a4b8-6d5c4d13cee5"
      },
      "outputs": [
        {
          "data": {
            "image/png": "[encoded data removed]",
            "text/plain": [
              "<Figure size 432x288 with 1 Axes>"
            ]
          },
          "metadata": {},
          "output_type": "display_data"
        }
      ],
      "source": [
        "# Nombre de films sortis par années\n",
        "sns.lineplot(x=movies_rating_dropna_year['startYear'].value_counts().index, y=movies_rating_dropna_year['startYear'].value_counts().values)\n",
        "plt.title(\"Nb of movies by released year\")\n",
        "plt.show()"
      ]
    },
    {
      "cell_type": "code",
      "execution_count": 85,
      "id": "x7nj-NCC1c-I",
      "metadata": {
        "colab": {
          "base_uri": "https://localhost:8080/",
          "height": 341
        },
        "id": "x7nj-NCC1c-I",
        "outputId": "1ad63612-159f-4ac1-ecf4-dbc70c8e133c"
      },
      "outputs": [
        {
          "data": {
            "image/png": "[encoded data removed]",
            "text/plain": [
              "<Figure size 432x288 with 1 Axes>"
            ]
          },
          "metadata": {},
          "output_type": "display_data"
        }
      ],
      "source": [
        "# nombre de films par décénies\n",
        "sns.lineplot(x=movies_rating_dropna_year['decade'].value_counts().sort_values().index, y=movies_rating_dropna_year['decade'].value_counts().sort_values().values)\n",
        "plt.title(\"Nb of movies by decade\")\n",
        "plt.xticks(rotation = 90)\n",
        "plt.show()"
      ]
    },
    {
      "cell_type": "code",
      "execution_count": 86,
      "id": "w-Xrcn-1-MRK",
      "metadata": {
        "colab": {
          "base_uri": "https://localhost:8080/",
          "height": 511
        },
        "id": "w-Xrcn-1-MRK",
        "outputId": "80c6f3e7-e381-427a-9529-724018957460"
      },
      "outputs": [
        {
          "data": {
            "text/html": [
              "<div>\n",
              "<style scoped>\n",
              "    .dataframe tbody tr th:only-of-type {\n",
              "        vertical-align: middle;\n",
              "    }\n",
              "\n",
              "    .dataframe tbody tr th {\n",
              "        vertical-align: top;\n",
              "    }\n",
              "\n",
              "    .dataframe thead th {\n",
              "        text-align: right;\n",
              "    }\n",
              "</style>\n",
              "<table border=\"1\" class=\"dataframe\">\n",
              "  <thead>\n",
              "    <tr style=\"text-align: right;\">\n",
              "      <th></th>\n",
              "      <th>runtimeMinutes</th>\n",
              "    </tr>\n",
              "    <tr>\n",
              "      <th>decade</th>\n",
              "      <th></th>\n",
              "    </tr>\n",
              "  </thead>\n",
              "  <tbody>\n",
              "    <tr>\n",
              "      <th>1900 - 1910</th>\n",
              "      <td>85.666667</td>\n",
              "    </tr>\n",
              "    <tr>\n",
              "      <th>1910 - 1920</th>\n",
              "      <td>79.397980</td>\n",
              "    </tr>\n",
              "    <tr>\n",
              "      <th>1920 - 1930</th>\n",
              "      <td>82.638901</td>\n",
              "    </tr>\n",
              "    <tr>\n",
              "      <th>1930 - 1940</th>\n",
              "      <td>82.302625</td>\n",
              "    </tr>\n",
              "    <tr>\n",
              "      <th>1940 - 1950</th>\n",
              "      <td>87.868937</td>\n",
              "    </tr>\n",
              "    <tr>\n",
              "      <th>1950 - 1960</th>\n",
              "      <td>93.281073</td>\n",
              "    </tr>\n",
              "    <tr>\n",
              "      <th>1960 - 1970</th>\n",
              "      <td>96.242673</td>\n",
              "    </tr>\n",
              "    <tr>\n",
              "      <th>1970 - 1980</th>\n",
              "      <td>95.852036</td>\n",
              "    </tr>\n",
              "    <tr>\n",
              "      <th>1980 - 1990</th>\n",
              "      <td>97.554482</td>\n",
              "    </tr>\n",
              "    <tr>\n",
              "      <th>1990 - 2000</th>\n",
              "      <td>99.943981</td>\n",
              "    </tr>\n",
              "    <tr>\n",
              "      <th>2000 - 2010</th>\n",
              "      <td>97.384822</td>\n",
              "    </tr>\n",
              "    <tr>\n",
              "      <th>2010 - 2020</th>\n",
              "      <td>95.758985</td>\n",
              "    </tr>\n",
              "    <tr>\n",
              "      <th>2020 - 2030</th>\n",
              "      <td>96.641963</td>\n",
              "    </tr>\n",
              "    <tr>\n",
              "      <th>&lt;1900</th>\n",
              "      <td>98.000000</td>\n",
              "    </tr>\n",
              "  </tbody>\n",
              "</table>\n",
              "</div>"
            ],
            "text/plain": [
              "             runtimeMinutes\n",
              "decade                     \n",
              "1900 - 1910       85.666667\n",
              "1910 - 1920       79.397980\n",
              "1920 - 1930       82.638901\n",
              "1930 - 1940       82.302625\n",
              "1940 - 1950       87.868937\n",
              "1950 - 1960       93.281073\n",
              "1960 - 1970       96.242673\n",
              "1970 - 1980       95.852036\n",
              "1980 - 1990       97.554482\n",
              "1990 - 2000       99.943981\n",
              "2000 - 2010       97.384822\n",
              "2010 - 2020       95.758985\n",
              "2020 - 2030       96.641963\n",
              "<1900             98.000000"
            ]
          },
          "execution_count": 86,
          "metadata": {},
          "output_type": "execute_result"
        }
      ],
      "source": [
        "# durée moyenne des films par décennie\n",
        "pivot_decade_runtime = movies_rating_dropna_year.pivot_table(index='decade', values='runtimeMinutes', aggfunc='mean')\n",
        "pivot_decade_runtime"
      ]
    },
    {
      "cell_type": "code",
      "execution_count": 87,
      "id": "m9jtk1ja-fj6",
      "metadata": {
        "colab": {
          "base_uri": "https://localhost:8080/",
          "height": 387
        },
        "id": "m9jtk1ja-fj6",
        "outputId": "8acc19bf-ad5f-41c8-e5b3-e2924fcff07f"
      },
      "outputs": [
        {
          "data": {
            "image/png": "[encoded data removed]",
            "text/plain": [
              "<Figure size 720x360 with 1 Axes>"
            ]
          },
          "metadata": {},
          "output_type": "display_data"
        }
      ],
      "source": [
        "fig, ax = plt.subplots(figsize=(10,5))\n",
        "sns.lineplot(data = pivot_decade_runtime, x=pivot_decade_runtime.index, y='runtimeMinutes')\n",
        "ax.set_title('Movies duration per decade')\n",
        "plt.xticks(rotation = 30)\n",
        "plt.show()"
      ]
    },
    {
      "cell_type": "code",
      "execution_count": 88,
      "id": "YOdZPf_k_xOL",
      "metadata": {
        "colab": {
          "base_uri": "https://localhost:8080/",
          "height": 368
        },
        "id": "YOdZPf_k_xOL",
        "outputId": "0d93e060-7a23-410b-e8ef-8750d52b2521"
      },
      "outputs": [
        {
          "data": {
            "image/png": "[encoded data removed]",
            "text/plain": [
              "<Figure size 720x360 with 1 Axes>"
            ]
          },
          "metadata": {},
          "output_type": "display_data"
        }
      ],
      "source": [
        "# durée moyenne des films par année\n",
        "pivot_year_runtime = movies_rating_dropna_year.pivot_table(index='startYear', values='runtimeMinutes', aggfunc='mean')\n",
        "fig, ax = plt.subplots(figsize=(10,5))\n",
        "sns.lineplot(data = pivot_year_runtime, x=pivot_year_runtime.index, y='runtimeMinutes')\n",
        "ax.set_title('Movies duration per year')\n",
        "plt.xticks(rotation = 30)\n",
        "plt.show()"
      ]
    },
    {
      "cell_type": "code",
      "execution_count": 89,
      "metadata": {},
      "outputs": [
        {
          "data": {
            "text/plain": [
              "95.66734247196499"
            ]
          },
          "execution_count": 89,
          "metadata": {},
          "output_type": "execute_result"
        }
      ],
      "source": [
        "movies_rating_dropna_year['runtimeMinutes'].mean()"
      ]
    },
    {
      "cell_type": "code",
      "execution_count": null,
      "id": "fD2E9wyG1c-I",
      "metadata": {
        "colab": {
          "base_uri": "https://localhost:8080/",
          "height": 826
        },
        "id": "fD2E9wyG1c-I",
        "outputId": "95ddd893-b0e3-4e84-e560-31ccaacfa3f1"
      },
      "outputs": [],
      "source": [
        "# genre par années (ou décénies)\n",
        "pivot_decade_genre = movies_rating_dropna_year.pivot_table(index = 'decade', columns='genre 1', aggfunc='count')\n",
        "pivot_decade_genre"
      ]
    },
    {
      "cell_type": "code",
      "execution_count": 91,
      "id": "KpVLKKPcBLSX",
      "metadata": {
        "colab": {
          "base_uri": "https://localhost:8080/"
        },
        "id": "KpVLKKPcBLSX",
        "outputId": "91cfd6b5-9ae4-4189-9ef8-a8a5259a7fcd"
      },
      "outputs": [
        {
          "data": {
            "text/plain": [
              "Drama          11060\n",
              "Romance         3634\n",
              "Documentary     3358\n",
              "Thriller        2884\n",
              "Horror          2346\n",
              "Comedy          2337\n",
              "Crime           2048\n",
              "Family          1824\n",
              "Mystery         1767\n",
              "History         1494\n",
              "Adventure       1411\n",
              "Music           1122\n",
              "Fantasy         1059\n",
              "Sci-Fi           787\n",
              "Animation        687\n",
              "Sport            597\n",
              "Biography        347\n",
              "War              321\n",
              "Musical          266\n",
              "News             198\n",
              "Western           86\n",
              "Reality-TV         3\n",
              "Name: genre 2, dtype: int64"
            ]
          },
          "execution_count": 91,
          "metadata": {},
          "output_type": "execute_result"
        }
      ],
      "source": [
        "# genre les plus produits la dernière décennie\n",
        "last_decade = movies_rating_dropna_year[movies_rating_dropna_year['decade'] == '2010 - 2020']\n",
        "\n",
        "# création d'un dataset sur la dernière décennie qui ne comprend que le top 10 des genres produits\n",
        "last_decade_top10_genre = last_decade[last_decade['genre 1'].isin(last_decade['genre 1'].value_counts()[:10].index)]\n",
        "last_decade_top10_genre['genre 2'].value_counts()"
      ]
    },
    {
      "cell_type": "markdown",
      "id": "KzwCyN6k1c-I",
      "metadata": {
        "id": "KzwCyN6k1c-I"
      },
      "source": [
        "Reco de filtre:\n",
        "- films adult ==0)\n",
        "- durée plus de 60 min et moins de 240min (4h)\n",
        "- avec un nombre de vote supérieur à 500\n",
        "- moyenne > à la moyenne des notes de tous les films"
      ]
    }
  ],
  "metadata": {
    "colab": {
      "collapsed_sections": [
        "9520b87a"
      ],
      "name": "EDA_Alex.ipynb",
      "provenance": []
    },
    "interpreter": {
      "hash": "054c0128ae785496ec715fe55dc407401ac17e534a17f921fadf0b2704e9e719"
    },
    "kernelspec": {
      "display_name": "Python 3.8.8 64-bit ('base': conda)",
      "name": "python3"
    },
    "language_info": {
      "codemirror_mode": {
        "name": "ipython",
        "version": 3
      },
      "file_extension": ".py",
      "mimetype": "text/x-python",
      "name": "python",
      "nbconvert_exporter": "python",
      "pygments_lexer": "ipython3",
      "version": "3.8.8"
    }
  },
  "nbformat": 4,
  "nbformat_minor": 5
}
